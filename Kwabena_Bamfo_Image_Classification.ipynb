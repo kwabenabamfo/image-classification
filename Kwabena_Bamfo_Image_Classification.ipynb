{
  "nbformat": 4,
  "nbformat_minor": 0,
  "metadata": {
    "colab": {
      "name": "Kwabena Bamfo - Image Classification.ipynb",
      "provenance": [],
      "toc_visible": true
    },
    "kernelspec": {
      "name": "python3",
      "display_name": "Python 3"
    },
    "accelerator": "GPU"
  },
  "cells": [
    {
      "cell_type": "markdown",
      "metadata": {
        "id": "GoTHpcc3oIHy"
      },
      "source": [
        "# Image Classification - Men and Women\n"
      ]
    },
    {
      "cell_type": "markdown",
      "metadata": {
        "id": "S_cYd6zlo3l8"
      },
      "source": [
        "## Importing Packages"
      ]
    },
    {
      "cell_type": "code",
      "metadata": {
        "id": "kVlbxqZRD0fv"
      },
      "source": [
        "import tensorflow as tf"
      ],
      "execution_count": null,
      "outputs": []
    },
    {
      "cell_type": "code",
      "metadata": {
        "id": "lPpeXz6Coq1X"
      },
      "source": [
        "from tensorflow.keras.preprocessing.image import ImageDataGenerator"
      ],
      "execution_count": null,
      "outputs": []
    },
    {
      "cell_type": "code",
      "metadata": {
        "id": "vuKm3k3qouhW"
      },
      "source": [
        "import os\n",
        "import numpy as np\n",
        "import matplotlib.pyplot as plt"
      ],
      "execution_count": null,
      "outputs": []
    },
    {
      "cell_type": "code",
      "metadata": {
        "id": "N5Tg5mXnP5Cc"
      },
      "source": [
        "from keras.models import Sequential\n",
        "from keras.layers import Dense, Dropout\n",
        "from keras.optimizers import RMSprop"
      ],
      "execution_count": null,
      "outputs": []
    },
    {
      "cell_type": "markdown",
      "metadata": {
        "id": "zQcLoJE2pBu8"
      },
      "source": [
        "## Loading Data"
      ]
    },
    {
      "cell_type": "code",
      "metadata": {
        "id": "UZEXqsRBeVqp"
      },
      "source": [
        "!rm -rf data && mkdir data && wget http://info.iut-bm.univ-fcomte.fr/staff/couturie/images.zip  && unzip images.zip -d data/\n",
        "!ls data"
      ],
      "execution_count": null,
      "outputs": []
    },
    {
      "cell_type": "code",
      "metadata": {
        "id": "n_huEWu4h41d"
      },
      "source": [
        "TRAIN_DIR = 'data/train'\n",
        "VALIDATION_DIR = 'data/validation'"
      ],
      "execution_count": null,
      "outputs": []
    },
    {
      "cell_type": "code",
      "metadata": {
        "id": "rxcjBiCpiOqe"
      },
      "source": [
        "train_men_dir = 'data/train/men'  # directory with our training men pictures\n",
        "train_women_dir = 'data/train/women'  # directory with our training women pictures\n",
        "validation_men_dir = 'data/validation/men'  # directory with our validation men pictures\n",
        "validation_women_dir = 'data/validation/women'  # directory with our validation women pictures"
      ],
      "execution_count": null,
      "outputs": []
    },
    {
      "cell_type": "code",
      "metadata": {
        "id": "eqIDCvnrMsR7"
      },
      "source": [
        "num_men_tr = len(os.listdir(train_men_dir))\n",
        "num_women_tr = len(os.listdir(train_women_dir))\n",
        "\n",
        "num_men_val = len(os.listdir(validation_men_dir))\n",
        "num_women_val = len(os.listdir(validation_women_dir))\n",
        "\n",
        "total_train = num_men_tr + num_women_tr\n",
        "total_val = num_men_val + num_women_val"
      ],
      "execution_count": null,
      "outputs": []
    },
    {
      "cell_type": "markdown",
      "metadata": {
        "id": "Sq3JS87UqVvz"
      },
      "source": [
        "## Data Summary"
      ]
    },
    {
      "cell_type": "code",
      "metadata": {
        "id": "AHktjbdzV0rz",
        "colab": {
          "base_uri": "https://localhost:8080/"
        },
        "outputId": "cc80c3a1-5f9d-4758-a5f2-0747a4ff9866"
      },
      "source": [
        "print('Total training men images:', num_men_tr)\n",
        "print('Total training women images:', num_women_tr)\n",
        "\n",
        "print('Total validation men images:', num_men_val)\n",
        "print('Total validation women images:', num_women_val)\n",
        "print(\"---------------------\")\n",
        "print(\"Total training images:\", total_train)\n",
        "print(\"Total validation images:\", total_val)"
      ],
      "execution_count": null,
      "outputs": [
        {
          "output_type": "stream",
          "text": [
            "Total training men images: 104\n",
            "Total training women images: 102\n",
            "Total validation men images: 103\n",
            "Total validation women images: 103\n",
            "---------------------\n",
            "Total training images: 206\n",
            "Total validation images: 206\n"
          ],
          "name": "stdout"
        }
      ]
    },
    {
      "cell_type": "markdown",
      "metadata": {
        "id": "c1P9SeTXqkf8"
      },
      "source": [
        "## Setting Model Parameters"
      ]
    },
    {
      "cell_type": "code",
      "metadata": {
        "id": "y0LrDlNqZpex"
      },
      "source": [
        "BATCH_SIZE = 32\n",
        "IMG_SHAPE  = 150 "
      ],
      "execution_count": null,
      "outputs": []
    },
    {
      "cell_type": "markdown",
      "metadata": {
        "id": "f2IblIZzrqct"
      },
      "source": [
        "## Data Flow & Data Augmentation"
      ]
    },
    {
      "cell_type": "code",
      "metadata": {
        "id": "uyVe19_mkvF-",
        "colab": {
          "base_uri": "https://localhost:8080/"
        },
        "outputId": "41fd05d6-2de0-40e4-e723-78af564382f0"
      },
      "source": [
        "data_augmentation = True\n",
        "\n",
        "if not data_augmentation:\n",
        "  print('Not using data augmentation.')\n",
        "  train_datagen = ImageDataGenerator(rescale=1./255)\n",
        "else:\n",
        "  print('Using real-time data augmentation.')\n",
        "  # train_datagen = ImageDataGenerator(\n",
        "  #       rescale=1./255,\n",
        "  #       rotation_range=40,\n",
        "  #       width_shift_range=0.2,\n",
        "  #       height_shift_range=0.2,\n",
        "  #       shear_range=0.2,\n",
        "  #       zoom_range=0.2,\n",
        "  #       horizontal_flip=True,\n",
        "  #       fill_mode='nearest')\n",
        "  train_datagen = ImageDataGenerator(\n",
        "          featurewise_center=False,  # set input mean to 0 over the dataset\n",
        "          samplewise_center=False,  # set each sample mean to 0\n",
        "          featurewise_std_normalization=False,  # divide inputs by std of the dataset\n",
        "          samplewise_std_normalization=False,  # divide each input by its std\n",
        "          zca_whitening=False,  # apply ZCA whitening\n",
        "          zca_epsilon=1e-06,  # epsilon for ZCA whitening\n",
        "          rotation_range=0,  # randomly rotate images in the range (degrees, 0 to 180)\n",
        "          # randomly shift images horizontally (fraction of total width)\n",
        "          width_shift_range=0.1,\n",
        "          # randomly shift images vertically (fraction of total height)\n",
        "          height_shift_range=0.1,\n",
        "          shear_range=0.,  # set range for random shear\n",
        "          zoom_range=0.,  # set range for random zoom\n",
        "          channel_shift_range=0.,  # set range for random channel shifts\n",
        "          # set mode for filling points outside the input boundaries\n",
        "          fill_mode='nearest',\n",
        "          cval=0.,  # value used for fill_mode = \"constant\"\n",
        "          horizontal_flip=True,  # randomly flip images\n",
        "          vertical_flip=False,  # randomly flip images\n",
        "          # set rescaling factor (applied before any other transformation)\n",
        "          rescale=1./255,\n",
        "          # set function that will be applied on each input\n",
        "          preprocessing_function=None,\n",
        "          # image data format, either \"channels_first\" or \"channels_last\"\n",
        "          data_format=None,\n",
        "          # fraction of images reserved for validation (strictly between 0 and 1)\n",
        "          validation_split=0.0)\n",
        "\n",
        "\n",
        "# train_generator = train_datagen.flow_from_directory(batch_size=BATCH_SIZE,\n",
        "#                                                     directory=TRAIN_DIR,\n",
        "#                                                     shuffle=True,\n",
        "#                                                     target_size=(IMG_SHAPE,IMG_SHAPE),\n",
        "#                                                     class_mode='binary')\n",
        "\n",
        "train_generator = train_datagen.flow_from_directory(batch_size=BATCH_SIZE,\n",
        "                                                    directory=TRAIN_DIR,\n",
        "                                                    target_size=(IMG_SHAPE,IMG_SHAPE),\n",
        "                                                    class_mode='binary')"
      ],
      "execution_count": null,
      "outputs": [
        {
          "output_type": "stream",
          "text": [
            "Not using data augmentation.\n",
            "Found 206 images belonging to 2 classes.\n"
          ],
          "name": "stdout"
        }
      ]
    },
    {
      "cell_type": "code",
      "metadata": {
        "id": "zudve5_klD2l",
        "colab": {
          "base_uri": "https://localhost:8080/"
        },
        "outputId": "b8905b7f-1b5f-4487-90ef-dbbe443a8e61"
      },
      "source": [
        "val_datagen = ImageDataGenerator(rescale=1./255)\n",
        "\n",
        "val_generator = val_datagen.flow_from_directory(batch_size=BATCH_SIZE,\n",
        "                                                  directory=VALIDATION_DIR,\n",
        "                                                  target_size=(IMG_SHAPE, IMG_SHAPE),\n",
        "                                                  class_mode='binary')"
      ],
      "execution_count": null,
      "outputs": [
        {
          "output_type": "stream",
          "text": [
            "Found 206 images belonging to 2 classes.\n"
          ],
          "name": "stdout"
        }
      ]
    },
    {
      "cell_type": "markdown",
      "metadata": {
        "id": "sO7a8aEY7Yfa"
      },
      "source": [
        "## Simple Convolutional Neural Network"
      ]
    },
    {
      "cell_type": "code",
      "metadata": {
        "id": "WqJnH9xQ8Uou"
      },
      "source": [
        "import keras\n",
        "from keras.layers import Dense, Dropout, Activation, Flatten, Input\n",
        "from keras.models import Model\n",
        "from keras.layers import Input"
      ],
      "execution_count": null,
      "outputs": []
    },
    {
      "cell_type": "code",
      "metadata": {
        "id": "eh1SsxkIlIY7"
      },
      "source": [
        "model = tf.keras.models.Sequential([\n",
        "    tf.keras.layers.Conv2D(32, (3,3), activation='relu', input_shape=(150, 150, 3)),\n",
        "    tf.keras.layers.MaxPooling2D(2, 2),\n",
        "\n",
        "    tf.keras.layers.Conv2D(64, (3,3), activation='relu'),\n",
        "    tf.keras.layers.MaxPooling2D(2,2),\n",
        "\n",
        "    tf.keras.layers.Conv2D(128, (3,3), activation='relu'),\n",
        "    tf.keras.layers.MaxPooling2D(2,2),\n",
        "\n",
        "    tf.keras.layers.Conv2D(128, (3,3), activation='relu'),\n",
        "    tf.keras.layers.MaxPooling2D(2,2),\n",
        "\n",
        "    tf.keras.layers.Dropout(0.5),\n",
        "    tf.keras.layers.Flatten(),\n",
        "    tf.keras.layers.Dense(512, activation='relu'),\n",
        "    tf.keras.layers.Dense(2)\n",
        "])"
      ],
      "execution_count": null,
      "outputs": []
    },
    {
      "cell_type": "code",
      "metadata": {
        "id": "RM2HT1UU9f25"
      },
      "source": [
        "model.compile(optimizer='adam',\n",
        "              loss=tf.keras.losses.SparseCategoricalCrossentropy(from_logits=True),\n",
        "              metrics=['accuracy'])\n"
      ],
      "execution_count": null,
      "outputs": []
    },
    {
      "cell_type": "code",
      "metadata": {
        "id": "_7p05apZ9jgD",
        "colab": {
          "base_uri": "https://localhost:8080/"
        },
        "outputId": "5492654a-5e9b-41fa-c2bb-404370e5f89c"
      },
      "source": [
        "model.summary()"
      ],
      "execution_count": null,
      "outputs": [
        {
          "output_type": "stream",
          "text": [
            "Model: \"sequential\"\n",
            "_________________________________________________________________\n",
            "Layer (type)                 Output Shape              Param #   \n",
            "=================================================================\n",
            "conv2d (Conv2D)              (None, 148, 148, 32)      896       \n",
            "_________________________________________________________________\n",
            "max_pooling2d (MaxPooling2D) (None, 74, 74, 32)        0         \n",
            "_________________________________________________________________\n",
            "conv2d_1 (Conv2D)            (None, 72, 72, 64)        18496     \n",
            "_________________________________________________________________\n",
            "max_pooling2d_1 (MaxPooling2 (None, 36, 36, 64)        0         \n",
            "_________________________________________________________________\n",
            "conv2d_2 (Conv2D)            (None, 34, 34, 128)       73856     \n",
            "_________________________________________________________________\n",
            "max_pooling2d_2 (MaxPooling2 (None, 17, 17, 128)       0         \n",
            "_________________________________________________________________\n",
            "conv2d_3 (Conv2D)            (None, 15, 15, 128)       147584    \n",
            "_________________________________________________________________\n",
            "max_pooling2d_3 (MaxPooling2 (None, 7, 7, 128)         0         \n",
            "_________________________________________________________________\n",
            "dropout (Dropout)            (None, 7, 7, 128)         0         \n",
            "_________________________________________________________________\n",
            "flatten (Flatten)            (None, 6272)              0         \n",
            "_________________________________________________________________\n",
            "dense (Dense)                (None, 512)               3211776   \n",
            "_________________________________________________________________\n",
            "dense_1 (Dense)              (None, 2)                 1026      \n",
            "=================================================================\n",
            "Total params: 3,453,634\n",
            "Trainable params: 3,453,634\n",
            "Non-trainable params: 0\n",
            "_________________________________________________________________\n"
          ],
          "name": "stdout"
        }
      ]
    },
    {
      "cell_type": "markdown",
      "metadata": {
        "id": "vVdqYHANq4D3"
      },
      "source": [
        "### Result With No Data Augmentation (Shows Overfitting)"
      ]
    },
    {
      "cell_type": "code",
      "metadata": {
        "id": "NdVDtKqC9pQo",
        "colab": {
          "base_uri": "https://localhost:8080/"
        },
        "outputId": "5869faf3-e66b-4a64-8714-e27fa0c19521"
      },
      "source": [
        "callback = tf.keras.callbacks.EarlyStopping(monitor='val_accuracy', mode='max', patience=10, restore_best_weights=True)\n",
        "epochs=30\n",
        "history = model.fit(\n",
        "    train_generator,\n",
        "    epochs=epochs,\n",
        "    callbacks=[callback],\n",
        "    validation_data=val_generator,\n",
        "    workers=4\n",
        ")"
      ],
      "execution_count": null,
      "outputs": [
        {
          "output_type": "stream",
          "text": [
            "Epoch 1/30\n",
            "1/7 [===>..........................] - ETA: 0s - loss: 0.2202 - accuracy: 0.9375WARNING:tensorflow:Callbacks method `on_train_batch_end` is slow compared to the batch time (batch time: 0.0122s vs `on_train_batch_end` time: 0.0189s). Check your callbacks.\n",
            "7/7 [==============================] - 1s 115ms/step - loss: 0.3153 - accuracy: 0.8641 - val_loss: 0.5278 - val_accuracy: 0.7670\n",
            "Epoch 2/30\n",
            "7/7 [==============================] - 1s 104ms/step - loss: 0.2682 - accuracy: 0.8786 - val_loss: 0.6419 - val_accuracy: 0.7670\n",
            "Epoch 3/30\n",
            "7/7 [==============================] - 1s 98ms/step - loss: 0.3224 - accuracy: 0.8592 - val_loss: 0.4922 - val_accuracy: 0.8058\n",
            "Epoch 4/30\n",
            "7/7 [==============================] - 1s 96ms/step - loss: 0.2642 - accuracy: 0.8835 - val_loss: 0.5482 - val_accuracy: 0.7718\n",
            "Epoch 5/30\n",
            "7/7 [==============================] - 1s 97ms/step - loss: 0.2482 - accuracy: 0.9175 - val_loss: 0.5193 - val_accuracy: 0.7816\n",
            "Epoch 6/30\n",
            "7/7 [==============================] - 1s 99ms/step - loss: 0.2216 - accuracy: 0.9126 - val_loss: 0.6195 - val_accuracy: 0.7816\n",
            "Epoch 7/30\n",
            "7/7 [==============================] - 1s 102ms/step - loss: 0.1451 - accuracy: 0.9272 - val_loss: 0.6091 - val_accuracy: 0.8010\n",
            "Epoch 8/30\n",
            "7/7 [==============================] - 1s 117ms/step - loss: 0.1274 - accuracy: 0.9466 - val_loss: 0.6326 - val_accuracy: 0.8204\n",
            "Epoch 9/30\n",
            "7/7 [==============================] - 1s 101ms/step - loss: 0.1027 - accuracy: 0.9709 - val_loss: 0.5525 - val_accuracy: 0.8155\n",
            "Epoch 10/30\n",
            "7/7 [==============================] - 1s 100ms/step - loss: 0.1487 - accuracy: 0.9563 - val_loss: 0.6457 - val_accuracy: 0.8301\n",
            "Epoch 11/30\n",
            "7/7 [==============================] - 1s 100ms/step - loss: 0.0738 - accuracy: 0.9806 - val_loss: 0.8665 - val_accuracy: 0.8155\n",
            "Epoch 12/30\n",
            "7/7 [==============================] - 1s 100ms/step - loss: 0.1029 - accuracy: 0.9563 - val_loss: 0.7919 - val_accuracy: 0.7913\n",
            "Epoch 13/30\n",
            "7/7 [==============================] - 1s 96ms/step - loss: 0.1582 - accuracy: 0.9417 - val_loss: 0.7778 - val_accuracy: 0.8107\n",
            "Epoch 14/30\n",
            "7/7 [==============================] - 1s 102ms/step - loss: 0.0980 - accuracy: 0.9660 - val_loss: 0.6967 - val_accuracy: 0.8010\n",
            "Epoch 15/30\n",
            "7/7 [==============================] - 1s 99ms/step - loss: 0.0644 - accuracy: 0.9806 - val_loss: 0.7465 - val_accuracy: 0.8155\n",
            "Epoch 16/30\n",
            "7/7 [==============================] - 1s 101ms/step - loss: 0.0348 - accuracy: 0.9951 - val_loss: 0.8202 - val_accuracy: 0.8350\n",
            "Epoch 17/30\n",
            "7/7 [==============================] - 1s 94ms/step - loss: 0.0508 - accuracy: 0.9903 - val_loss: 0.8452 - val_accuracy: 0.8107\n",
            "Epoch 18/30\n",
            "7/7 [==============================] - 1s 103ms/step - loss: 0.0333 - accuracy: 0.9854 - val_loss: 0.7922 - val_accuracy: 0.8252\n",
            "Epoch 19/30\n",
            "7/7 [==============================] - 1s 95ms/step - loss: 0.0388 - accuracy: 0.9806 - val_loss: 0.8779 - val_accuracy: 0.8155\n",
            "Epoch 20/30\n",
            "7/7 [==============================] - 1s 103ms/step - loss: 0.0273 - accuracy: 0.9951 - val_loss: 0.8080 - val_accuracy: 0.8107\n",
            "Epoch 21/30\n",
            "7/7 [==============================] - 1s 92ms/step - loss: 0.0723 - accuracy: 0.9660 - val_loss: 0.9547 - val_accuracy: 0.8495\n",
            "Epoch 22/30\n",
            "7/7 [==============================] - 1s 100ms/step - loss: 0.0279 - accuracy: 0.9854 - val_loss: 1.0671 - val_accuracy: 0.8204\n",
            "Epoch 23/30\n",
            "7/7 [==============================] - 1s 101ms/step - loss: 0.1569 - accuracy: 0.9369 - val_loss: 0.8857 - val_accuracy: 0.7961\n",
            "Epoch 24/30\n",
            "7/7 [==============================] - 1s 113ms/step - loss: 0.1425 - accuracy: 0.9417 - val_loss: 0.7768 - val_accuracy: 0.7621\n",
            "Epoch 25/30\n",
            "7/7 [==============================] - 1s 101ms/step - loss: 0.0967 - accuracy: 0.9563 - val_loss: 0.7870 - val_accuracy: 0.8010\n",
            "Epoch 26/30\n",
            "7/7 [==============================] - 1s 93ms/step - loss: 0.0990 - accuracy: 0.9757 - val_loss: 0.6889 - val_accuracy: 0.7961\n",
            "Epoch 27/30\n",
            "7/7 [==============================] - 1s 102ms/step - loss: 0.0768 - accuracy: 0.9854 - val_loss: 0.7588 - val_accuracy: 0.8107\n",
            "Epoch 28/30\n",
            "7/7 [==============================] - 1s 100ms/step - loss: 0.0618 - accuracy: 0.9806 - val_loss: 0.8439 - val_accuracy: 0.8107\n",
            "Epoch 29/30\n",
            "7/7 [==============================] - 1s 102ms/step - loss: 0.0255 - accuracy: 0.9903 - val_loss: 0.9441 - val_accuracy: 0.7961\n",
            "Epoch 30/30\n",
            "7/7 [==============================] - 1s 96ms/step - loss: 0.0127 - accuracy: 1.0000 - val_loss: 1.2062 - val_accuracy: 0.7864\n"
          ],
          "name": "stdout"
        }
      ]
    },
    {
      "cell_type": "code",
      "metadata": {
        "id": "VBYYQAxC-UL0",
        "colab": {
          "base_uri": "https://localhost:8080/"
        },
        "outputId": "cd130980-cce7-4001-d50a-d733d0222e97"
      },
      "source": [
        "score = model.evaluate(val_generator,verbose=2)\n",
        "print('Test loss:', score[0])\n",
        "print('Test accuracy:', score[1])"
      ],
      "execution_count": null,
      "outputs": [
        {
          "output_type": "stream",
          "text": [
            "7/7 - 0s - loss: 1.2062 - accuracy: 0.7864\n",
            "Test loss: 1.206180214881897\n",
            "Test accuracy: 0.7864077687263489\n"
          ],
          "name": "stdout"
        }
      ]
    },
    {
      "cell_type": "code",
      "metadata": {
        "id": "V9gqOX6BrIqL",
        "colab": {
          "base_uri": "https://localhost:8080/",
          "height": 499
        },
        "outputId": "a8e790eb-89c4-4b67-9cfa-bd2370d0dfae"
      },
      "source": [
        "acc = history.history['accuracy']\n",
        "val_acc = history.history['val_accuracy']\n",
        "\n",
        "loss = history.history['loss']\n",
        "val_loss = history.history['val_loss']\n",
        "\n",
        "epochs_range = range(epochs)\n",
        "\n",
        "plt.figure(figsize=(8, 8))\n",
        "plt.subplot(1, 2, 1)\n",
        "plt.plot(epochs_range, acc, label='Training Accuracy')\n",
        "plt.plot(epochs_range, val_acc, label='Validation Accuracy')\n",
        "plt.legend(loc='lower right')\n",
        "plt.title('Training and Validation Accuracy')\n",
        "\n",
        "plt.subplot(1, 2, 2)\n",
        "plt.plot(epochs_range, loss, label='Training Loss')\n",
        "plt.plot(epochs_range, val_loss, label='Validation Loss')\n",
        "plt.legend(loc='upper right')\n",
        "plt.title('Training and Validation Loss')\n",
        "plt.show()"
      ],
      "execution_count": null,
      "outputs": [
        {
          "output_type": "display_data",
          "data": {
            "image/png": "[encoded data removed]",
            "text/plain": [
              "<Figure size 576x576 with 2 Axes>"
            ]
          },
          "metadata": {
            "tags": [],
            "needs_background": "light"
          }
        }
      ]
    },
    {
      "cell_type": "markdown",
      "metadata": {
        "id": "mTohv6AarQ53"
      },
      "source": [
        "### Result With Data Augmentation\n"
      ]
    },
    {
      "cell_type": "code",
      "metadata": {
        "id": "ShfaEEN5rWCq",
        "colab": {
          "base_uri": "https://localhost:8080/"
        },
        "outputId": "02b20c16-2b06-4a26-e113-b0d626eafb99"
      },
      "source": [
        "callback = tf.keras.callbacks.EarlyStopping(monitor='val_accuracy', mode='max', patience=10, restore_best_weights=True)\n",
        "epochs=30\n",
        "history = model.fit(\n",
        "    train_generator,\n",
        "    epochs=epochs,\n",
        "    callbacks=[callback],\n",
        "    validation_data=val_generator,\n",
        "    workers=4\n",
        ")"
      ],
      "execution_count": null,
      "outputs": [
        {
          "output_type": "stream",
          "text": [
            "Epoch 1/30\n",
            "7/7 [==============================] - 2s 241ms/step - loss: 0.7341 - accuracy: 0.5825 - val_loss: 0.6959 - val_accuracy: 0.5000\n",
            "Epoch 2/30\n",
            "7/7 [==============================] - 1s 174ms/step - loss: 0.6959 - accuracy: 0.5000 - val_loss: 0.6922 - val_accuracy: 0.5000\n",
            "Epoch 3/30\n",
            "7/7 [==============================] - 1s 155ms/step - loss: 0.6818 - accuracy: 0.5388 - val_loss: 0.6794 - val_accuracy: 0.5583\n",
            "Epoch 4/30\n",
            "7/7 [==============================] - 1s 149ms/step - loss: 0.6695 - accuracy: 0.5922 - val_loss: 0.6435 - val_accuracy: 0.6262\n",
            "Epoch 5/30\n",
            "7/7 [==============================] - 1s 172ms/step - loss: 0.6228 - accuracy: 0.6408 - val_loss: 0.6462 - val_accuracy: 0.5825\n",
            "Epoch 6/30\n",
            "7/7 [==============================] - 1s 173ms/step - loss: 0.6316 - accuracy: 0.6893 - val_loss: 0.6130 - val_accuracy: 0.6408\n",
            "Epoch 7/30\n",
            "7/7 [==============================] - 1s 170ms/step - loss: 0.5782 - accuracy: 0.6602 - val_loss: 0.5681 - val_accuracy: 0.7524\n",
            "Epoch 8/30\n",
            "7/7 [==============================] - 2s 233ms/step - loss: 0.5896 - accuracy: 0.6845 - val_loss: 0.5462 - val_accuracy: 0.7379\n",
            "Epoch 9/30\n",
            "7/7 [==============================] - 1s 135ms/step - loss: 0.5325 - accuracy: 0.7573 - val_loss: 0.6122 - val_accuracy: 0.7282\n",
            "Epoch 10/30\n",
            "7/7 [==============================] - 1s 172ms/step - loss: 0.5504 - accuracy: 0.7330 - val_loss: 0.5502 - val_accuracy: 0.7476\n",
            "Epoch 11/30\n",
            "7/7 [==============================] - 1s 169ms/step - loss: 0.5384 - accuracy: 0.7087 - val_loss: 0.5205 - val_accuracy: 0.7524\n",
            "Epoch 12/30\n",
            "7/7 [==============================] - 1s 154ms/step - loss: 0.5390 - accuracy: 0.7136 - val_loss: 0.5563 - val_accuracy: 0.7039\n",
            "Epoch 13/30\n",
            "7/7 [==============================] - 1s 151ms/step - loss: 0.5522 - accuracy: 0.6796 - val_loss: 0.5371 - val_accuracy: 0.7621\n",
            "Epoch 14/30\n",
            "7/7 [==============================] - 1s 170ms/step - loss: 0.5147 - accuracy: 0.7816 - val_loss: 0.5327 - val_accuracy: 0.7767\n",
            "Epoch 15/30\n",
            "7/7 [==============================] - 1s 178ms/step - loss: 0.4832 - accuracy: 0.7864 - val_loss: 0.5081 - val_accuracy: 0.7476\n",
            "Epoch 16/30\n",
            "7/7 [==============================] - 1s 165ms/step - loss: 0.4914 - accuracy: 0.7670 - val_loss: 0.4909 - val_accuracy: 0.8010\n",
            "Epoch 17/30\n",
            "7/7 [==============================] - 1s 151ms/step - loss: 0.5359 - accuracy: 0.7524 - val_loss: 0.5892 - val_accuracy: 0.7087\n",
            "Epoch 18/30\n",
            "7/7 [==============================] - 1s 146ms/step - loss: 0.5108 - accuracy: 0.7621 - val_loss: 0.5322 - val_accuracy: 0.7427\n",
            "Epoch 19/30\n",
            "7/7 [==============================] - 1s 157ms/step - loss: 0.5002 - accuracy: 0.7379 - val_loss: 0.5094 - val_accuracy: 0.7670\n",
            "Epoch 20/30\n",
            "7/7 [==============================] - 1s 147ms/step - loss: 0.4853 - accuracy: 0.7767 - val_loss: 0.4768 - val_accuracy: 0.7670\n",
            "Epoch 21/30\n",
            "7/7 [==============================] - 1s 156ms/step - loss: 0.4995 - accuracy: 0.7767 - val_loss: 0.4638 - val_accuracy: 0.7864\n",
            "Epoch 22/30\n",
            "7/7 [==============================] - 1s 146ms/step - loss: 0.4573 - accuracy: 0.7864 - val_loss: 0.4689 - val_accuracy: 0.7961\n",
            "Epoch 23/30\n",
            "7/7 [==============================] - 1s 157ms/step - loss: 0.4354 - accuracy: 0.8058 - val_loss: 0.4688 - val_accuracy: 0.7816\n",
            "Epoch 24/30\n",
            "7/7 [==============================] - 1s 146ms/step - loss: 0.4053 - accuracy: 0.8010 - val_loss: 0.4935 - val_accuracy: 0.7621\n",
            "Epoch 25/30\n",
            "7/7 [==============================] - 1s 146ms/step - loss: 0.4390 - accuracy: 0.7816 - val_loss: 0.4566 - val_accuracy: 0.7961\n",
            "Epoch 26/30\n",
            "7/7 [==============================] - 1s 205ms/step - loss: 0.4160 - accuracy: 0.8058 - val_loss: 0.4422 - val_accuracy: 0.8107\n",
            "Epoch 27/30\n",
            "7/7 [==============================] - 2s 223ms/step - loss: 0.4079 - accuracy: 0.7961 - val_loss: 0.4524 - val_accuracy: 0.7816\n",
            "Epoch 28/30\n",
            "7/7 [==============================] - 1s 155ms/step - loss: 0.3855 - accuracy: 0.8204 - val_loss: 0.5493 - val_accuracy: 0.7476\n",
            "Epoch 29/30\n",
            "7/7 [==============================] - 1s 175ms/step - loss: 0.4580 - accuracy: 0.7621 - val_loss: 0.4811 - val_accuracy: 0.7767\n",
            "Epoch 30/30\n",
            "7/7 [==============================] - 1s 165ms/step - loss: 0.3632 - accuracy: 0.8447 - val_loss: 0.4496 - val_accuracy: 0.7913\n"
          ],
          "name": "stdout"
        }
      ]
    },
    {
      "cell_type": "code",
      "metadata": {
        "id": "DFtk-72arqWf",
        "colab": {
          "base_uri": "https://localhost:8080/"
        },
        "outputId": "78b4b224-ec2a-4fa3-99e6-1828010741ac"
      },
      "source": [
        "score = model.evaluate(val_generator,verbose=2)\n",
        "print('Test loss:', score[0])\n",
        "print('Test accuracy:', score[1])"
      ],
      "execution_count": null,
      "outputs": [
        {
          "output_type": "stream",
          "text": [
            "7/7 - 0s - loss: 0.4496 - accuracy: 0.7913\n",
            "Test loss: 0.4496449828147888\n",
            "Test accuracy: 0.791262149810791\n"
          ],
          "name": "stdout"
        }
      ]
    },
    {
      "cell_type": "code",
      "metadata": {
        "id": "DcBxnKPGrmue",
        "colab": {
          "base_uri": "https://localhost:8080/",
          "height": 499
        },
        "outputId": "4f8c15ef-8947-44fe-9034-d183e8d59a85"
      },
      "source": [
        "acc = history.history['accuracy']\n",
        "val_acc = history.history['val_accuracy']\n",
        "\n",
        "loss = history.history['loss']\n",
        "val_loss = history.history['val_loss']\n",
        "\n",
        "epochs_range = range(epochs)\n",
        "\n",
        "plt.figure(figsize=(8, 8))\n",
        "plt.subplot(1, 2, 1)\n",
        "plt.plot(epochs_range, acc, label='Training Accuracy')\n",
        "plt.plot(epochs_range, val_acc, label='Validation Accuracy')\n",
        "plt.legend(loc='lower right')\n",
        "plt.title('Training and Validation Accuracy')\n",
        "\n",
        "plt.subplot(1, 2, 2)\n",
        "plt.plot(epochs_range, loss, label='Training Loss')\n",
        "plt.plot(epochs_range, val_loss, label='Validation Loss')\n",
        "plt.legend(loc='upper right')\n",
        "plt.title('Training and Validation Loss')\n",
        "plt.show()"
      ],
      "execution_count": null,
      "outputs": [
        {
          "output_type": "display_data",
          "data": {
            "image/png": "[encoded data removed]",
            "text/plain": [
              "<Figure size 576x576 with 2 Axes>"
            ]
          },
          "metadata": {
            "tags": [],
            "needs_background": "light"
          }
        }
      ]
    },
    {
      "cell_type": "markdown",
      "metadata": {
        "id": "Hf6dzMp98t15"
      },
      "source": [
        "## Densenet121"
      ]
    },
    {
      "cell_type": "markdown",
      "metadata": {
        "id": "qGhrQOZVtDrw"
      },
      "source": [
        "### Train All Layers"
      ]
    },
    {
      "cell_type": "code",
      "metadata": {
        "id": "zsbC5cLf6c-7",
        "colab": {
          "base_uri": "https://localhost:8080/"
        },
        "outputId": "13b18c3d-f292-469f-df00-6cc11770fbdd"
      },
      "source": [
        "from tensorflow.keras.applications import DenseNet121\n",
        "\n",
        "net= DenseNet121(include_top=False, weights='imagenet', input_tensor=Input(shape=(150,150,3))) \n",
        "\n",
        "for layer in net.layers[:]:\n",
        "    layer.trainable = True\n",
        "\n",
        "x = net.output\n",
        "x = Flatten()(x)\n",
        "x = Dropout(0.5)(x)\n",
        "output_layer = Dense(1, activation='sigmoid', name='sigmoid')(x)\n",
        "model = Model(inputs=net.input, outputs=output_layer)\n",
        "\n",
        "# initiate RMSprop optimizer\n",
        "opt = keras.optimizers.RMSprop(lr=0.0001, decay=1e-6)\n",
        "\n",
        "# This callback will stop the training when there is no improvement in\n",
        "# the validation loss for three consecutive epochs.\n",
        "callback = tf.keras.callbacks.EarlyStopping(monitor='val_loss', patience=5, mode='min')\n",
        "\n",
        "# train the model using RMSprop\n",
        "model.compile(loss='binary_crossentropy',\n",
        "              optimizer=opt,\n",
        "              metrics=['accuracy'])\n",
        "\n",
        "epochs=20\n",
        "history = model.fit(\n",
        "    train_generator,\n",
        "    epochs=epochs,\n",
        "    callbacks=[callback],\n",
        "    validation_data=val_generator,\n",
        "    workers=4\n",
        ")\n",
        "\n",
        "score = model.evaluate(val_generator,verbose=2)\n",
        "print('Test loss:', score[0])\n",
        "print('Test accuracy:', score[1])"
      ],
      "execution_count": null,
      "outputs": [
        {
          "output_type": "stream",
          "text": [
            "Epoch 1/20\n",
            "7/7 [==============================] - 4s 518ms/step - loss: 0.9492 - accuracy: 0.5777 - val_loss: 0.3966 - val_accuracy: 0.8592\n",
            "Epoch 2/20\n",
            "7/7 [==============================] - 2s 217ms/step - loss: 0.5332 - accuracy: 0.7670 - val_loss: 0.3489 - val_accuracy: 0.8738\n",
            "Epoch 3/20\n",
            "7/7 [==============================] - 2s 215ms/step - loss: 0.4545 - accuracy: 0.7961 - val_loss: 0.3796 - val_accuracy: 0.8738\n",
            "Epoch 4/20\n",
            "7/7 [==============================] - 2s 236ms/step - loss: 0.4697 - accuracy: 0.8010 - val_loss: 0.3077 - val_accuracy: 0.8835\n",
            "Epoch 5/20\n",
            "7/7 [==============================] - 2s 218ms/step - loss: 0.3532 - accuracy: 0.8738 - val_loss: 0.2697 - val_accuracy: 0.9078\n",
            "Epoch 6/20\n",
            "7/7 [==============================] - 2s 224ms/step - loss: 0.2082 - accuracy: 0.9126 - val_loss: 0.3932 - val_accuracy: 0.8738\n",
            "Epoch 7/20\n",
            "7/7 [==============================] - 2s 223ms/step - loss: 0.2602 - accuracy: 0.8932 - val_loss: 0.1660 - val_accuracy: 0.9417\n",
            "Epoch 8/20\n",
            "7/7 [==============================] - 2s 276ms/step - loss: 0.2557 - accuracy: 0.8981 - val_loss: 0.1642 - val_accuracy: 0.9515\n",
            "Epoch 9/20\n",
            "7/7 [==============================] - 2s 215ms/step - loss: 0.1298 - accuracy: 0.9612 - val_loss: 0.1952 - val_accuracy: 0.9417\n",
            "Epoch 10/20\n",
            "7/7 [==============================] - 2s 221ms/step - loss: 0.1267 - accuracy: 0.9563 - val_loss: 0.1658 - val_accuracy: 0.9417\n",
            "Epoch 11/20\n",
            "7/7 [==============================] - 2s 254ms/step - loss: 0.1282 - accuracy: 0.9466 - val_loss: 0.1838 - val_accuracy: 0.9417\n",
            "Epoch 12/20\n",
            "7/7 [==============================] - 2s 222ms/step - loss: 0.0815 - accuracy: 0.9563 - val_loss: 0.2101 - val_accuracy: 0.9417\n",
            "Epoch 13/20\n",
            "7/7 [==============================] - 2s 220ms/step - loss: 0.0605 - accuracy: 0.9709 - val_loss: 0.2150 - val_accuracy: 0.9417\n",
            "7/7 - 0s - loss: 0.2150 - accuracy: 0.9417\n",
            "Test loss: 0.21496592462062836\n",
            "Test accuracy: 0.9417475461959839\n"
          ],
          "name": "stdout"
        }
      ]
    },
    {
      "cell_type": "markdown",
      "metadata": {
        "id": "da72XwdRtLab"
      },
      "source": [
        "### Freeze All Layers\n"
      ]
    },
    {
      "cell_type": "code",
      "metadata": {
        "id": "egpvr5T9tI-3",
        "colab": {
          "base_uri": "https://localhost:8080/"
        },
        "outputId": "d2c97592-a271-457c-bca2-0ac281afd162"
      },
      "source": [
        "from tensorflow.keras.applications import DenseNet121\n",
        "\n",
        "net= DenseNet121(include_top=False, weights='imagenet', input_tensor=Input(shape=(150,150,3))) \n",
        "\n",
        "for layer in net.layers[:]:\n",
        "    layer.trainable = False\n",
        "\n",
        "x = net.output\n",
        "x = Flatten()(x)\n",
        "x = Dropout(0.5)(x)\n",
        "output_layer = Dense(1, activation='sigmoid', name='sigmoid')(x)\n",
        "model = Model(inputs=net.input, outputs=output_layer)\n",
        "\n",
        "# initiate RMSprop optimizer\n",
        "opt = keras.optimizers.RMSprop(lr=0.0001, decay=1e-6)\n",
        "\n",
        "# This callback will stop the training when there is no improvement in\n",
        "# the validation loss for three consecutive epochs.\n",
        "callback = tf.keras.callbacks.EarlyStopping(monitor='loss', patience=3)\n",
        "\n",
        "# train the model using RMSprop\n",
        "model.compile(loss='binary_crossentropy',\n",
        "              optimizer=opt,\n",
        "              metrics=['accuracy'])\n",
        "\n",
        "epochs=20\n",
        "history = model.fit(\n",
        "    train_generator,\n",
        "    epochs=epochs,\n",
        "    validation_data=val_generator,\n",
        "    workers=4\n",
        ")\n",
        "\n",
        "score = model.evaluate(val_generator,verbose=2)\n",
        "print('Test loss:', score[0])\n",
        "print('Test accuracy:', score[1])"
      ],
      "execution_count": null,
      "outputs": [
        {
          "output_type": "stream",
          "text": [
            "Epoch 1/20\n",
            "7/7 [==============================] - 3s 468ms/step - loss: 0.9295 - accuracy: 0.5534 - val_loss: 0.6656 - val_accuracy: 0.6262\n",
            "Epoch 2/20\n",
            "7/7 [==============================] - 1s 149ms/step - loss: 0.9276 - accuracy: 0.5825 - val_loss: 0.5443 - val_accuracy: 0.7816\n",
            "Epoch 3/20\n",
            "7/7 [==============================] - 1s 168ms/step - loss: 0.6603 - accuracy: 0.6845 - val_loss: 0.4680 - val_accuracy: 0.8301\n",
            "Epoch 4/20\n",
            "7/7 [==============================] - 1s 166ms/step - loss: 0.7034 - accuracy: 0.6845 - val_loss: 0.4079 - val_accuracy: 0.8495\n",
            "Epoch 5/20\n",
            "7/7 [==============================] - 1s 168ms/step - loss: 0.6430 - accuracy: 0.6893 - val_loss: 0.3625 - val_accuracy: 0.8738\n",
            "Epoch 6/20\n",
            "7/7 [==============================] - 1s 161ms/step - loss: 0.5784 - accuracy: 0.7087 - val_loss: 0.3246 - val_accuracy: 0.8883\n",
            "Epoch 7/20\n",
            "7/7 [==============================] - 2s 220ms/step - loss: 0.5748 - accuracy: 0.7184 - val_loss: 0.3049 - val_accuracy: 0.8981\n",
            "Epoch 8/20\n",
            "7/7 [==============================] - 1s 176ms/step - loss: 0.5596 - accuracy: 0.7379 - val_loss: 0.3038 - val_accuracy: 0.8981\n",
            "Epoch 9/20\n",
            "7/7 [==============================] - 1s 170ms/step - loss: 0.4960 - accuracy: 0.7864 - val_loss: 0.2891 - val_accuracy: 0.8981\n",
            "Epoch 10/20\n",
            "7/7 [==============================] - 1s 152ms/step - loss: 0.4572 - accuracy: 0.8204 - val_loss: 0.2555 - val_accuracy: 0.9126\n",
            "Epoch 11/20\n",
            "7/7 [==============================] - 1s 173ms/step - loss: 0.4138 - accuracy: 0.8252 - val_loss: 0.2481 - val_accuracy: 0.9175\n",
            "Epoch 12/20\n",
            "7/7 [==============================] - 1s 163ms/step - loss: 0.4895 - accuracy: 0.7767 - val_loss: 0.2306 - val_accuracy: 0.9272\n",
            "Epoch 13/20\n",
            "7/7 [==============================] - 1s 150ms/step - loss: 0.4724 - accuracy: 0.7913 - val_loss: 0.2311 - val_accuracy: 0.9223\n",
            "Epoch 14/20\n",
            "7/7 [==============================] - 1s 160ms/step - loss: 0.4814 - accuracy: 0.7767 - val_loss: 0.2191 - val_accuracy: 0.9369\n",
            "Epoch 15/20\n",
            "7/7 [==============================] - 2s 235ms/step - loss: 0.4394 - accuracy: 0.8301 - val_loss: 0.2106 - val_accuracy: 0.9369\n",
            "Epoch 16/20\n",
            "7/7 [==============================] - 1s 179ms/step - loss: 0.4252 - accuracy: 0.8447 - val_loss: 0.2125 - val_accuracy: 0.9369\n",
            "Epoch 17/20\n",
            "7/7 [==============================] - 1s 155ms/step - loss: 0.4349 - accuracy: 0.8010 - val_loss: 0.2000 - val_accuracy: 0.9320\n",
            "Epoch 18/20\n",
            "7/7 [==============================] - 1s 169ms/step - loss: 0.4857 - accuracy: 0.7913 - val_loss: 0.2014 - val_accuracy: 0.9369\n",
            "Epoch 19/20\n",
            "7/7 [==============================] - 1s 175ms/step - loss: 0.4100 - accuracy: 0.8058 - val_loss: 0.1963 - val_accuracy: 0.9369\n",
            "Epoch 20/20\n",
            "7/7 [==============================] - 1s 163ms/step - loss: 0.4548 - accuracy: 0.7913 - val_loss: 0.1885 - val_accuracy: 0.9369\n",
            "7/7 - 0s - loss: 0.1885 - accuracy: 0.9369\n",
            "Test loss: 0.18854142725467682\n",
            "Test accuracy: 0.9368932247161865\n"
          ],
          "name": "stdout"
        }
      ]
    },
    {
      "cell_type": "markdown",
      "metadata": {
        "id": "A8kWtpixuMAx"
      },
      "source": [
        "### Freeze All Layers Except Last X Layers\n"
      ]
    },
    {
      "cell_type": "code",
      "metadata": {
        "id": "WmPs408wuQPI",
        "colab": {
          "base_uri": "https://localhost:8080/"
        },
        "outputId": "d8526e5e-95da-4a32-b52b-6b2d78d2e55e"
      },
      "source": [
        "from tensorflow.keras.applications import DenseNet121\n",
        "\n",
        "net= DenseNet121(include_top=False, weights='imagenet', input_tensor=Input(shape=(150,150,3))) \n",
        "\n",
        "for layer in net.layers[:-5]:\n",
        "    layer.trainable = False\n",
        "\n",
        "x = net.output\n",
        "x = Flatten()(x)\n",
        "x = Dropout(0.5)(x)\n",
        "output_layer = Dense(1, activation='sigmoid', name='sigmoid')(x)\n",
        "model = Model(inputs=net.input, outputs=output_layer)\n",
        "\n",
        "# initiate RMSprop optimizer\n",
        "opt = keras.optimizers.RMSprop(lr=0.0001, decay=1e-6)\n",
        "\n",
        "# train the model using RMSprop\n",
        "model.compile(loss='binary_crossentropy',\n",
        "              optimizer=opt,\n",
        "              metrics=['accuracy'])\n",
        "\n",
        "epochs=10\n",
        "history = model.fit(\n",
        "    train_generator,\n",
        "    epochs=epochs,\n",
        "    validation_data=val_generator,\n",
        "    workers=4\n",
        ")\n",
        "\n",
        "score = model.evaluate(val_generator,verbose=2)\n",
        "print('Test loss:', score[0])\n",
        "print('Test accuracy:', score[1])"
      ],
      "execution_count": null,
      "outputs": [
        {
          "output_type": "stream",
          "text": [
            "Epoch 1/10\n",
            "7/7 [==============================] - 3s 482ms/step - loss: 1.1218 - accuracy: 0.5194 - val_loss: 0.6067 - val_accuracy: 0.6699\n",
            "Epoch 2/10\n",
            "7/7 [==============================] - 2s 217ms/step - loss: 0.7720 - accuracy: 0.6068 - val_loss: 0.5592 - val_accuracy: 0.7136\n",
            "Epoch 3/10\n",
            "7/7 [==============================] - 1s 186ms/step - loss: 0.8596 - accuracy: 0.5971 - val_loss: 0.4752 - val_accuracy: 0.7621\n",
            "Epoch 4/10\n",
            "7/7 [==============================] - 1s 167ms/step - loss: 0.7978 - accuracy: 0.6748 - val_loss: 0.4419 - val_accuracy: 0.7767\n",
            "Epoch 5/10\n",
            "7/7 [==============================] - 1s 210ms/step - loss: 0.7527 - accuracy: 0.6505 - val_loss: 0.3717 - val_accuracy: 0.8301\n",
            "Epoch 6/10\n",
            "7/7 [==============================] - 1s 181ms/step - loss: 0.6784 - accuracy: 0.7087 - val_loss: 0.3192 - val_accuracy: 0.8544\n",
            "Epoch 7/10\n",
            "7/7 [==============================] - 1s 170ms/step - loss: 0.6555 - accuracy: 0.7233 - val_loss: 0.2821 - val_accuracy: 0.8835\n",
            "Epoch 8/10\n",
            "7/7 [==============================] - 1s 183ms/step - loss: 0.5839 - accuracy: 0.7427 - val_loss: 0.2719 - val_accuracy: 0.8835\n",
            "Epoch 9/10\n",
            "7/7 [==============================] - 1s 162ms/step - loss: 0.5073 - accuracy: 0.7913 - val_loss: 0.2568 - val_accuracy: 0.8883\n",
            "Epoch 10/10\n",
            "7/7 [==============================] - 2s 224ms/step - loss: 0.4554 - accuracy: 0.7961 - val_loss: 0.2234 - val_accuracy: 0.9029\n",
            "7/7 - 0s - loss: 0.2234 - accuracy: 0.9029\n",
            "Test loss: 0.22337596118450165\n",
            "Test accuracy: 0.9029126167297363\n"
          ],
          "name": "stdout"
        }
      ]
    },
    {
      "cell_type": "markdown",
      "metadata": {
        "id": "n9RKRSbnrCmt"
      },
      "source": [
        "## Xception (Our Highest Accuracy Model)"
      ]
    },
    {
      "cell_type": "code",
      "metadata": {
        "id": "2vs8PX9trHgj",
        "colab": {
          "base_uri": "https://localhost:8080/"
        },
        "outputId": "801d21e1-d898-4533-9990-3acf6f651137"
      },
      "source": [
        "from tensorflow.keras.applications import Xception\n",
        "\n",
        "net= Xception(include_top=False, weights='imagenet', input_tensor=Input(shape=(150,150,3))) \n",
        "\n",
        "for layer in net.layers[:]:\n",
        "    layer.trainable = True\n",
        "\n",
        "x = net.output\n",
        "x = Flatten()(x)\n",
        "x = Dropout(0.3)(x)\n",
        "output_layer = Dense(1, activation='sigmoid', name='sigmoid')(x)\n",
        "model = Model(inputs=net.input, outputs=output_layer)\n",
        "\n",
        "# initiate RMSprop optimizer\n",
        "opt = keras.optimizers.RMSprop(lr=0.0001, decay=1e-6)\n",
        "\n",
        "# Let's train the model using RMSprop\n",
        "model.compile(loss='binary_crossentropy',\n",
        "              optimizer=opt,\n",
        "              metrics=['accuracy'])\n",
        "\n",
        "epochs=50\n",
        "callback = tf.keras.callbacks.EarlyStopping(monitor='val_accuracy', mode='max', patience=10, restore_best_weights=True)\n",
        "\n",
        "history = model.fit(\n",
        "    train_generator,\n",
        "    epochs=epochs,\n",
        "    callbacks = [callback],\n",
        "    validation_data=val_generator,\n",
        "    workers=4\n",
        ")\n",
        "\n",
        "score = model.evaluate(val_generator,verbose=2)\n",
        "print('Test loss:', score[0])\n",
        "print('Test accuracy:', score[1])"
      ],
      "execution_count": null,
      "outputs": [
        {
          "output_type": "stream",
          "text": [
            "Epoch 1/50\n",
            "7/7 [==============================] - 3s 438ms/step - loss: 0.5030 - accuracy: 0.7767 - val_loss: 0.2099 - val_accuracy: 0.9369\n",
            "Epoch 2/50\n",
            "7/7 [==============================] - 2s 319ms/step - loss: 0.0824 - accuracy: 1.0000 - val_loss: 0.1518 - val_accuracy: 0.9563\n",
            "Epoch 3/50\n",
            "7/7 [==============================] - 2s 303ms/step - loss: 0.0252 - accuracy: 1.0000 - val_loss: 0.1497 - val_accuracy: 0.9515\n",
            "Epoch 4/50\n",
            "7/7 [==============================] - 2s 302ms/step - loss: 0.0112 - accuracy: 1.0000 - val_loss: 0.1437 - val_accuracy: 0.9515\n",
            "Epoch 5/50\n",
            "7/7 [==============================] - 2s 302ms/step - loss: 0.0094 - accuracy: 1.0000 - val_loss: 0.1451 - val_accuracy: 0.9563\n",
            "Epoch 6/50\n",
            "7/7 [==============================] - 2s 304ms/step - loss: 0.0072 - accuracy: 1.0000 - val_loss: 0.1587 - val_accuracy: 0.9563\n",
            "Epoch 7/50\n",
            "7/7 [==============================] - 2s 328ms/step - loss: 0.0059 - accuracy: 1.0000 - val_loss: 0.1510 - val_accuracy: 0.9563\n",
            "Epoch 8/50\n",
            "7/7 [==============================] - 2s 302ms/step - loss: 0.0520 - accuracy: 0.9806 - val_loss: 0.1671 - val_accuracy: 0.9563\n",
            "Epoch 9/50\n",
            "7/7 [==============================] - 2s 322ms/step - loss: 0.0070 - accuracy: 1.0000 - val_loss: 0.1731 - val_accuracy: 0.9563\n",
            "Epoch 10/50\n",
            "7/7 [==============================] - 2s 327ms/step - loss: 0.0038 - accuracy: 1.0000 - val_loss: 0.1817 - val_accuracy: 0.9515\n",
            "Epoch 11/50\n",
            "7/7 [==============================] - 2s 322ms/step - loss: 0.0015 - accuracy: 1.0000 - val_loss: 0.1863 - val_accuracy: 0.9466\n",
            "Epoch 12/50\n",
            "7/7 [==============================] - 2s 322ms/step - loss: 8.1793e-04 - accuracy: 1.0000 - val_loss: 0.1850 - val_accuracy: 0.9515\n",
            "Epoch 13/50\n",
            "7/7 [==============================] - 2s 325ms/step - loss: 0.0021 - accuracy: 1.0000 - val_loss: 0.1407 - val_accuracy: 0.9709\n",
            "Epoch 14/50\n",
            "7/7 [==============================] - 2s 347ms/step - loss: 0.0032 - accuracy: 1.0000 - val_loss: 0.1751 - val_accuracy: 0.9563\n",
            "Epoch 15/50\n",
            "7/7 [==============================] - 2s 338ms/step - loss: 0.0021 - accuracy: 1.0000 - val_loss: 0.2578 - val_accuracy: 0.9320\n",
            "Epoch 16/50\n",
            "7/7 [==============================] - 2s 327ms/step - loss: 2.9688e-04 - accuracy: 1.0000 - val_loss: 0.2483 - val_accuracy: 0.9369\n",
            "Epoch 17/50\n",
            "7/7 [==============================] - 2s 347ms/step - loss: 2.1388e-04 - accuracy: 1.0000 - val_loss: 0.2265 - val_accuracy: 0.9417\n",
            "Epoch 18/50\n",
            "7/7 [==============================] - 2s 344ms/step - loss: 2.4185e-04 - accuracy: 1.0000 - val_loss: 0.2142 - val_accuracy: 0.9417\n",
            "Epoch 19/50\n",
            "7/7 [==============================] - 2s 321ms/step - loss: 2.1629e-04 - accuracy: 1.0000 - val_loss: 0.2032 - val_accuracy: 0.9515\n",
            "Epoch 20/50\n",
            "7/7 [==============================] - 2s 325ms/step - loss: 5.9000e-04 - accuracy: 1.0000 - val_loss: 0.2230 - val_accuracy: 0.9466\n",
            "Epoch 21/50\n",
            "7/7 [==============================] - 2s 318ms/step - loss: 4.3573e-05 - accuracy: 1.0000 - val_loss: 0.2121 - val_accuracy: 0.9417\n",
            "Epoch 22/50\n",
            "7/7 [==============================] - 2s 317ms/step - loss: 1.3183e-04 - accuracy: 1.0000 - val_loss: 0.2484 - val_accuracy: 0.9417\n",
            "Epoch 23/50\n",
            "7/7 [==============================] - 2s 313ms/step - loss: 2.4303e-05 - accuracy: 1.0000 - val_loss: 0.2180 - val_accuracy: 0.9515\n",
            "Epoch 24/50\n",
            "7/7 [==============================] - 2s 328ms/step - loss: 1.4640e-04 - accuracy: 1.0000 - val_loss: 0.2063 - val_accuracy: 0.9612\n",
            "Epoch 25/50\n",
            "7/7 [==============================] - 2s 318ms/step - loss: 0.0012 - accuracy: 1.0000 - val_loss: 0.1224 - val_accuracy: 0.9709\n",
            "Epoch 26/50\n",
            "7/7 [==============================] - 2s 324ms/step - loss: 0.0515 - accuracy: 0.9903 - val_loss: 0.2300 - val_accuracy: 0.9078\n",
            "Epoch 27/50\n",
            "7/7 [==============================] - 2s 303ms/step - loss: 0.0076 - accuracy: 0.9951 - val_loss: 0.2605 - val_accuracy: 0.8981\n",
            "Epoch 28/50\n",
            "7/7 [==============================] - 2s 299ms/step - loss: 1.7997e-04 - accuracy: 1.0000 - val_loss: 0.2410 - val_accuracy: 0.9126\n",
            "Epoch 29/50\n",
            "7/7 [==============================] - 2s 301ms/step - loss: 3.9341e-05 - accuracy: 1.0000 - val_loss: 0.2194 - val_accuracy: 0.9175\n",
            "Epoch 30/50\n",
            "7/7 [==============================] - 2s 319ms/step - loss: 0.0020 - accuracy: 1.0000 - val_loss: 0.1622 - val_accuracy: 0.9417\n",
            "Epoch 31/50\n",
            "7/7 [==============================] - 2s 302ms/step - loss: 7.1984e-05 - accuracy: 1.0000 - val_loss: 0.1532 - val_accuracy: 0.9515\n",
            "Epoch 32/50\n",
            "7/7 [==============================] - 2s 323ms/step - loss: 6.4896e-05 - accuracy: 1.0000 - val_loss: 0.1416 - val_accuracy: 0.9563\n",
            "Epoch 33/50\n",
            "7/7 [==============================] - 2s 316ms/step - loss: 3.0909e-05 - accuracy: 1.0000 - val_loss: 0.1386 - val_accuracy: 0.9612\n",
            "Epoch 34/50\n",
            "7/7 [==============================] - 2s 303ms/step - loss: 4.8810e-05 - accuracy: 1.0000 - val_loss: 0.1407 - val_accuracy: 0.9563\n",
            "Epoch 35/50\n",
            "7/7 [==============================] - 2s 344ms/step - loss: 1.4380e-04 - accuracy: 1.0000 - val_loss: 0.1152 - val_accuracy: 0.9660\n",
            "Epoch 36/50\n",
            "7/7 [==============================] - 2s 314ms/step - loss: 1.3730e-05 - accuracy: 1.0000 - val_loss: 0.1127 - val_accuracy: 0.9660\n",
            "Epoch 37/50\n",
            "7/7 [==============================] - 2s 313ms/step - loss: 3.0197e-05 - accuracy: 1.0000 - val_loss: 0.1128 - val_accuracy: 0.9612\n",
            "Epoch 38/50\n",
            "7/7 [==============================] - 2s 312ms/step - loss: 1.5513e-05 - accuracy: 1.0000 - val_loss: 0.1126 - val_accuracy: 0.9612\n",
            "Epoch 39/50\n",
            "7/7 [==============================] - 2s 301ms/step - loss: 1.1476e-05 - accuracy: 1.0000 - val_loss: 0.1093 - val_accuracy: 0.9612\n",
            "Epoch 40/50\n",
            "7/7 [==============================] - 2s 302ms/step - loss: 1.2851e-05 - accuracy: 1.0000 - val_loss: 0.1118 - val_accuracy: 0.9612\n",
            "Epoch 41/50\n",
            "7/7 [==============================] - 2s 329ms/step - loss: 3.0818e-05 - accuracy: 1.0000 - val_loss: 0.1110 - val_accuracy: 0.9660\n",
            "Epoch 42/50\n",
            "7/7 [==============================] - 2s 328ms/step - loss: 2.0143e-04 - accuracy: 1.0000 - val_loss: 0.1303 - val_accuracy: 0.9612\n",
            "Epoch 43/50\n",
            "7/7 [==============================] - 2s 312ms/step - loss: 9.6041e-04 - accuracy: 1.0000 - val_loss: 0.1861 - val_accuracy: 0.9612\n",
            "Epoch 44/50\n",
            "7/7 [==============================] - 2s 317ms/step - loss: 3.7791e-04 - accuracy: 1.0000 - val_loss: 0.1948 - val_accuracy: 0.9563\n",
            "Epoch 45/50\n",
            "7/7 [==============================] - 2s 318ms/step - loss: 0.0025 - accuracy: 1.0000 - val_loss: 0.1756 - val_accuracy: 0.9612\n",
            "Epoch 46/50\n",
            "7/7 [==============================] - 2s 328ms/step - loss: 0.0061 - accuracy: 0.9951 - val_loss: 0.1343 - val_accuracy: 0.9709\n",
            "Epoch 47/50\n",
            "7/7 [==============================] - 2s 330ms/step - loss: 4.2071e-04 - accuracy: 1.0000 - val_loss: 0.1296 - val_accuracy: 0.9709\n",
            "Epoch 48/50\n",
            "7/7 [==============================] - 2s 336ms/step - loss: 0.0015 - accuracy: 1.0000 - val_loss: 0.1413 - val_accuracy: 0.9709\n",
            "Epoch 49/50\n",
            "7/7 [==============================] - 2s 325ms/step - loss: 1.5056e-05 - accuracy: 1.0000 - val_loss: 0.1408 - val_accuracy: 0.9709\n",
            "Epoch 50/50\n",
            "7/7 [==============================] - 2s 317ms/step - loss: 7.3682e-05 - accuracy: 1.0000 - val_loss: 0.1405 - val_accuracy: 0.9709\n",
            "7/7 - 0s - loss: 0.1405 - accuracy: 0.9709\n",
            "Test loss: 0.14045557379722595\n",
            "Test accuracy: 0.9708737730979919\n"
          ],
          "name": "stdout"
        }
      ]
    },
    {
      "cell_type": "markdown",
      "metadata": {
        "id": "QkMKt08B4ts6"
      },
      "source": [
        "## MobileNetV2 \n"
      ]
    },
    {
      "cell_type": "code",
      "metadata": {
        "id": "ovkILfWj42ZK",
        "colab": {
          "base_uri": "https://localhost:8080/"
        },
        "outputId": "5b4e528c-9220-4f68-c6be-d047e21ffff1"
      },
      "source": [
        "from tensorflow.keras.applications import MobileNetV2\n",
        "\n",
        "net= MobileNetV2(include_top=False, weights='imagenet', input_tensor=Input(shape=(150,150,3))) \n",
        "\n",
        "for layer in net.layers[:-5]:\n",
        "    layer.trainable = False\n",
        "\n",
        "x = net.output\n",
        "x = Flatten()(x)\n",
        "x = Dropout(0.5)(x)\n",
        "output_layer = Dense(1, activation='sigmoid', name='sigmoid')(x)\n",
        "model = Model(inputs=net.input, outputs=output_layer)\n",
        "\n",
        "# initiate RMSprop optimizer\n",
        "opt = keras.optimizers.RMSprop(lr=0.0001, decay=1e-6)\n",
        "\n",
        "# Train the model using RMSprop\n",
        "model.compile(loss='binary_crossentropy',\n",
        "              optimizer=opt,\n",
        "              metrics=['accuracy'])\n",
        "\n",
        "epochs=10\n",
        "\n",
        "history = model.fit(\n",
        "    train_generator,\n",
        "    epochs=epochs,\n",
        "    validation_data=val_generator,\n",
        "    workers=4\n",
        ")\n",
        "\n",
        "score = model.evaluate(val_generator,verbose=2)\n",
        "print('Test loss:', score[0])\n",
        "print('Test accuracy:', score[1])"
      ],
      "execution_count": null,
      "outputs": [
        {
          "output_type": "stream",
          "text": [
            "WARNING:tensorflow:`input_shape` is undefined or non-square, or `rows` is not in [96, 128, 160, 192, 224]. Weights for input shape (224, 224) will be loaded as the default.\n",
            "Epoch 1/10\n",
            "7/7 [==============================] - 2s 339ms/step - loss: 0.9365 - accuracy: 0.6214 - val_loss: 0.4494 - val_accuracy: 0.7864\n",
            "Epoch 2/10\n",
            "7/7 [==============================] - 1s 151ms/step - loss: 0.5442 - accuracy: 0.7816 - val_loss: 0.2505 - val_accuracy: 0.9029\n",
            "Epoch 3/10\n",
            "7/7 [==============================] - 1s 155ms/step - loss: 0.5164 - accuracy: 0.7913 - val_loss: 0.2472 - val_accuracy: 0.8981\n",
            "Epoch 4/10\n",
            "7/7 [==============================] - 1s 169ms/step - loss: 0.4026 - accuracy: 0.8058 - val_loss: 0.2409 - val_accuracy: 0.9078\n",
            "Epoch 5/10\n",
            "7/7 [==============================] - 1s 148ms/step - loss: 0.3718 - accuracy: 0.8641 - val_loss: 0.2324 - val_accuracy: 0.9126\n",
            "Epoch 6/10\n",
            "7/7 [==============================] - 1s 169ms/step - loss: 0.3933 - accuracy: 0.8447 - val_loss: 0.2390 - val_accuracy: 0.9223\n",
            "Epoch 7/10\n",
            "7/7 [==============================] - 1s 131ms/step - loss: 0.4709 - accuracy: 0.8058 - val_loss: 0.2338 - val_accuracy: 0.9223\n",
            "Epoch 8/10\n",
            "7/7 [==============================] - 1s 147ms/step - loss: 0.4717 - accuracy: 0.8350 - val_loss: 0.4518 - val_accuracy: 0.8981\n",
            "Epoch 9/10\n",
            "7/7 [==============================] - 1s 133ms/step - loss: 0.2985 - accuracy: 0.8932 - val_loss: 0.3192 - val_accuracy: 0.9126\n",
            "Epoch 10/10\n",
            "7/7 [==============================] - 1s 137ms/step - loss: 0.3409 - accuracy: 0.8689 - val_loss: 0.3808 - val_accuracy: 0.9126\n",
            "7/7 - 0s - loss: 0.3808 - accuracy: 0.9126\n",
            "Test loss: 0.38075220584869385\n",
            "Test accuracy: 0.9126213788986206\n"
          ],
          "name": "stdout"
        }
      ]
    },
    {
      "cell_type": "markdown",
      "metadata": {
        "id": "kDh9Uq3uRsvv"
      },
      "source": [
        "## NASNetLarge"
      ]
    },
    {
      "cell_type": "code",
      "metadata": {
        "id": "4w8jK_xOSPqu",
        "colab": {
          "base_uri": "https://localhost:8080/"
        },
        "outputId": "2426778d-58ab-460c-dd51-67d084d4365e"
      },
      "source": [
        "from tensorflow.keras.applications import NASNetLarge\n",
        "\n",
        "net= NASNetLarge(include_top=False, weights='imagenet', input_tensor=Input(shape=(150,150,3))) \n",
        "\n",
        "for layer in net.layers[:]:\n",
        "    layer.trainable = True\n",
        "\n",
        "x = net.output\n",
        "x = Flatten()(x)\n",
        "x = Dropout(0.5)(x)\n",
        "output_layer = Dense(1, activation='sigmoid', name='sigmoid')(x)\n",
        "model = Model(inputs=net.input, outputs=output_layer)\n",
        "\n",
        "# initiate RMSprop optimizer\n",
        "opt = keras.optimizers.RMSprop(lr=0.0001, decay=1e-6)\n",
        "\n",
        "# Let's train the model using RMSprop\n",
        "model.compile(loss='binary_crossentropy',\n",
        "              optimizer=opt,\n",
        "              metrics=['accuracy'])\n",
        "\n",
        "epochs=50\n",
        "\n",
        "callback = tf.keras.callbacks.EarlyStopping(monitor='val_accuracy', mode='max', patience=40, restore_best_weights='True')\n",
        "\n",
        "history = model.fit(\n",
        "    train_generator,\n",
        "    epochs=epochs,\n",
        "    callbacks=[callback],\n",
        "    validation_data=val_generator,\n",
        "    workers=4\n",
        ")\n",
        "\n",
        "score = model.evaluate(val_generator,verbose=2)\n",
        "print('Test loss:', score[0])\n",
        "print('Test accuracy:', score[1])"
      ],
      "execution_count": null,
      "outputs": [
        {
          "output_type": "stream",
          "text": [
            "Downloading data from https://storage.googleapis.com/tensorflow/keras-applications/nasnet/NASNet-large-no-top.h5\n",
            "343613440/343610240 [==============================] - 4s 0us/step\n",
            "Epoch 1/50\n",
            "7/7 [==============================] - 13s 2s/step - loss: 0.7191 - accuracy: 0.6505 - val_loss: 0.3232 - val_accuracy: 0.8641\n",
            "Epoch 2/50\n",
            "7/7 [==============================] - 7s 1s/step - loss: 0.1220 - accuracy: 0.9757 - val_loss: 0.3149 - val_accuracy: 0.8738\n",
            "Epoch 3/50\n",
            "7/7 [==============================] - 7s 1s/step - loss: 0.0353 - accuracy: 1.0000 - val_loss: 0.3037 - val_accuracy: 0.8932\n",
            "Epoch 4/50\n",
            "7/7 [==============================] - 7s 944ms/step - loss: 0.0148 - accuracy: 1.0000 - val_loss: 0.3228 - val_accuracy: 0.8835\n",
            "Epoch 5/50\n",
            "7/7 [==============================] - 7s 943ms/step - loss: 0.0072 - accuracy: 1.0000 - val_loss: 0.3248 - val_accuracy: 0.8883\n",
            "Epoch 6/50\n",
            "7/7 [==============================] - 7s 1s/step - loss: 0.0037 - accuracy: 1.0000 - val_loss: 0.3079 - val_accuracy: 0.9078\n",
            "Epoch 7/50\n",
            "7/7 [==============================] - 7s 994ms/step - loss: 0.0019 - accuracy: 1.0000 - val_loss: 0.2783 - val_accuracy: 0.9126\n",
            "Epoch 8/50\n",
            "7/7 [==============================] - 6s 925ms/step - loss: 0.0017 - accuracy: 1.0000 - val_loss: 0.3202 - val_accuracy: 0.9078\n",
            "Epoch 9/50\n",
            "7/7 [==============================] - 6s 922ms/step - loss: 9.2522e-04 - accuracy: 1.0000 - val_loss: 0.3355 - val_accuracy: 0.9078\n",
            "Epoch 10/50\n",
            "7/7 [==============================] - 6s 922ms/step - loss: 0.0020 - accuracy: 1.0000 - val_loss: 0.3818 - val_accuracy: 0.8883\n",
            "Epoch 11/50\n",
            "7/7 [==============================] - 7s 991ms/step - loss: 0.0023 - accuracy: 1.0000 - val_loss: 0.1709 - val_accuracy: 0.9369\n",
            "Epoch 12/50\n",
            "7/7 [==============================] - 6s 925ms/step - loss: 4.1892e-04 - accuracy: 1.0000 - val_loss: 0.1954 - val_accuracy: 0.9272\n",
            "Epoch 13/50\n",
            "7/7 [==============================] - 7s 931ms/step - loss: 2.1136e-04 - accuracy: 1.0000 - val_loss: 0.2226 - val_accuracy: 0.9223\n",
            "Epoch 14/50\n",
            "7/7 [==============================] - 7s 936ms/step - loss: 1.5106e-04 - accuracy: 1.0000 - val_loss: 0.2310 - val_accuracy: 0.9223\n",
            "Epoch 15/50\n",
            "7/7 [==============================] - 7s 933ms/step - loss: 9.4053e-05 - accuracy: 1.0000 - val_loss: 0.2413 - val_accuracy: 0.9223\n",
            "Epoch 16/50\n",
            "7/7 [==============================] - 7s 931ms/step - loss: 1.0274e-04 - accuracy: 1.0000 - val_loss: 0.2439 - val_accuracy: 0.9223\n",
            "Epoch 17/50\n",
            "7/7 [==============================] - 7s 994ms/step - loss: 2.7752e-05 - accuracy: 1.0000 - val_loss: 0.2359 - val_accuracy: 0.9223\n",
            "Epoch 18/50\n",
            "7/7 [==============================] - 7s 929ms/step - loss: 1.9817e-05 - accuracy: 1.0000 - val_loss: 0.2541 - val_accuracy: 0.9223\n",
            "Epoch 19/50\n",
            "7/7 [==============================] - 6s 924ms/step - loss: 0.0020 - accuracy: 1.0000 - val_loss: 0.2215 - val_accuracy: 0.9175\n",
            "Epoch 20/50\n",
            "7/7 [==============================] - 7s 929ms/step - loss: 0.0075 - accuracy: 0.9951 - val_loss: 0.1940 - val_accuracy: 0.9078\n",
            "Epoch 21/50\n",
            "7/7 [==============================] - 7s 989ms/step - loss: 4.7232e-04 - accuracy: 1.0000 - val_loss: 0.1831 - val_accuracy: 0.9078\n",
            "Epoch 22/50\n",
            "7/7 [==============================] - 6s 928ms/step - loss: 1.3019e-04 - accuracy: 1.0000 - val_loss: 0.2010 - val_accuracy: 0.9078\n",
            "Epoch 23/50\n",
            "7/7 [==============================] - 6s 915ms/step - loss: 2.5205e-05 - accuracy: 1.0000 - val_loss: 0.2019 - val_accuracy: 0.9126\n",
            "Epoch 24/50\n",
            "7/7 [==============================] - 7s 932ms/step - loss: 7.6882e-05 - accuracy: 1.0000 - val_loss: 0.2231 - val_accuracy: 0.9078\n",
            "Epoch 25/50\n",
            "7/7 [==============================] - 7s 931ms/step - loss: 1.0845e-05 - accuracy: 1.0000 - val_loss: 0.2203 - val_accuracy: 0.9175\n",
            "Epoch 26/50\n",
            "7/7 [==============================] - 7s 933ms/step - loss: 7.0835e-05 - accuracy: 1.0000 - val_loss: 0.2452 - val_accuracy: 0.9078\n",
            "Epoch 27/50\n",
            "7/7 [==============================] - 7s 980ms/step - loss: 1.9682e-05 - accuracy: 1.0000 - val_loss: 0.2351 - val_accuracy: 0.9078\n",
            "Epoch 28/50\n",
            "7/7 [==============================] - 6s 918ms/step - loss: 1.2643e-05 - accuracy: 1.0000 - val_loss: 0.2405 - val_accuracy: 0.9029\n",
            "Epoch 29/50\n",
            "7/7 [==============================] - 7s 993ms/step - loss: 1.4123e-05 - accuracy: 1.0000 - val_loss: 0.2326 - val_accuracy: 0.9126\n",
            "Epoch 30/50\n",
            "7/7 [==============================] - 6s 925ms/step - loss: 1.4703e-05 - accuracy: 1.0000 - val_loss: 0.2474 - val_accuracy: 0.9126\n",
            "Epoch 31/50\n",
            "7/7 [==============================] - 6s 926ms/step - loss: 1.7766e-06 - accuracy: 1.0000 - val_loss: 0.2493 - val_accuracy: 0.9126\n",
            "Epoch 32/50\n",
            "7/7 [==============================] - 6s 925ms/step - loss: 1.7862e-06 - accuracy: 1.0000 - val_loss: 0.2507 - val_accuracy: 0.9126\n",
            "Epoch 33/50\n",
            "7/7 [==============================] - 7s 992ms/step - loss: 8.2842e-07 - accuracy: 1.0000 - val_loss: 0.2485 - val_accuracy: 0.9175\n",
            "Epoch 34/50\n",
            "7/7 [==============================] - 7s 932ms/step - loss: 1.4180e-06 - accuracy: 1.0000 - val_loss: 0.2410 - val_accuracy: 0.9223\n",
            "Epoch 35/50\n",
            "7/7 [==============================] - 7s 931ms/step - loss: 8.0283e-07 - accuracy: 1.0000 - val_loss: 0.2479 - val_accuracy: 0.9175\n",
            "Epoch 36/50\n",
            "7/7 [==============================] - 6s 928ms/step - loss: 2.1019e-07 - accuracy: 1.0000 - val_loss: 0.2474 - val_accuracy: 0.9175\n",
            "Epoch 37/50\n",
            "7/7 [==============================] - 7s 996ms/step - loss: 3.1252e-07 - accuracy: 1.0000 - val_loss: 0.2493 - val_accuracy: 0.9175\n",
            "Epoch 38/50\n",
            "7/7 [==============================] - 6s 927ms/step - loss: 3.5049e-07 - accuracy: 1.0000 - val_loss: 0.2524 - val_accuracy: 0.9175\n",
            "Epoch 39/50\n",
            "7/7 [==============================] - 7s 930ms/step - loss: 3.1727e-06 - accuracy: 1.0000 - val_loss: 0.2745 - val_accuracy: 0.9029\n",
            "Epoch 40/50\n",
            "7/7 [==============================] - 6s 913ms/step - loss: 3.6400e-06 - accuracy: 1.0000 - val_loss: 0.2375 - val_accuracy: 0.9175\n",
            "Epoch 41/50\n",
            "7/7 [==============================] - 7s 931ms/step - loss: 1.1272e-07 - accuracy: 1.0000 - val_loss: 0.2395 - val_accuracy: 0.9175\n",
            "Epoch 42/50\n",
            "7/7 [==============================] - 7s 930ms/step - loss: 1.5117e-07 - accuracy: 1.0000 - val_loss: 0.2418 - val_accuracy: 0.9175\n",
            "Epoch 43/50\n",
            "7/7 [==============================] - 6s 926ms/step - loss: 3.0192e-07 - accuracy: 1.0000 - val_loss: 0.2775 - val_accuracy: 0.9126\n",
            "Epoch 44/50\n",
            "7/7 [==============================] - 7s 993ms/step - loss: 1.5455e-07 - accuracy: 1.0000 - val_loss: 0.2639 - val_accuracy: 0.9126\n",
            "Epoch 45/50\n",
            "7/7 [==============================] - 6s 927ms/step - loss: 9.1887e-08 - accuracy: 1.0000 - val_loss: 0.2774 - val_accuracy: 0.9126\n",
            "Epoch 46/50\n",
            "7/7 [==============================] - 7s 929ms/step - loss: 7.1914e-08 - accuracy: 1.0000 - val_loss: 0.2975 - val_accuracy: 0.8981\n",
            "Epoch 47/50\n",
            "7/7 [==============================] - 6s 927ms/step - loss: 1.9550e-08 - accuracy: 1.0000 - val_loss: 0.2959 - val_accuracy: 0.8981\n",
            "Epoch 48/50\n",
            "7/7 [==============================] - 6s 928ms/step - loss: 4.5260e-08 - accuracy: 1.0000 - val_loss: 0.2883 - val_accuracy: 0.9078\n",
            "Epoch 49/50\n",
            "7/7 [==============================] - 6s 927ms/step - loss: 2.0413e-08 - accuracy: 1.0000 - val_loss: 0.2824 - val_accuracy: 0.9126\n",
            "Epoch 50/50\n",
            "7/7 [==============================] - 7s 930ms/step - loss: 8.9937e-09 - accuracy: 1.0000 - val_loss: 0.2814 - val_accuracy: 0.9126\n",
            "7/7 - 1s - loss: 0.2814 - accuracy: 0.9126\n",
            "Test loss: 0.2814170718193054\n",
            "Test accuracy: 0.9126213788986206\n"
          ],
          "name": "stdout"
        }
      ]
    },
    {
      "cell_type": "markdown",
      "metadata": {
        "id": "Hrs487xRYRf2"
      },
      "source": [
        "## InceptionResNetV2\n"
      ]
    },
    {
      "cell_type": "code",
      "metadata": {
        "id": "Asb2vy65YgBt",
        "colab": {
          "base_uri": "https://localhost:8080/"
        },
        "outputId": "34df71b4-743b-45a9-a8b4-f2713b8a0309"
      },
      "source": [
        "from tensorflow.keras.applications import InceptionResNetV2\n",
        "\n",
        "net= InceptionResNetV2(include_top=False, weights='imagenet', input_tensor=Input(shape=(150,150,3))) \n",
        "\n",
        "for layer in net.layers[:-7]:\n",
        "    layer.trainable = False\n",
        "\n",
        "x = net.output\n",
        "x = Flatten()(x)\n",
        "x = Dropout(0.5)(x)\n",
        "output_layer = Dense(1, activation='sigmoid', name='sigmoid')(x)\n",
        "model = Model(inputs=net.input, outputs=output_layer)\n",
        "\n",
        "# initiate RMSprop optimizer\n",
        "opt = keras.optimizers.RMSprop(lr=0.0001, decay=1e-6)\n",
        "\n",
        "# Train the model using RMSprop\n",
        "model.compile(loss='binary_crossentropy',\n",
        "              optimizer=opt,\n",
        "              metrics=['accuracy'])\n",
        "\n",
        "epochs=50\n",
        "callback = tf.keras.callbacks.EarlyStopping(monitor='val_accuracy', mode='max', patience=40, restore_best_weights='True')\n",
        "\n",
        "history = model.fit(\n",
        "    train_generator,\n",
        "    epochs=epochs,\n",
        "    callbacks=[callback],\n",
        "    validation_data=val_generator,\n",
        "    workers=4\n",
        ")\n",
        "\n",
        "score = model.evaluate(val_generator,verbose=2)\n",
        "print('Test loss:', score[0])\n",
        "print('Test accuracy:', score[1])"
      ],
      "execution_count": null,
      "outputs": [
        {
          "output_type": "stream",
          "text": [
            "Downloading data from https://storage.googleapis.com/tensorflow/keras-applications/inception_resnet_v2/inception_resnet_v2_weights_tf_dim_ordering_tf_kernels_notop.h5\n",
            "219062272/219055592 [==============================] - 3s 0us/step\n",
            "Epoch 1/50\n",
            "7/7 [==============================] - 5s 741ms/step - loss: 0.4061 - accuracy: 0.8010 - val_loss: 0.1429 - val_accuracy: 0.9466\n",
            "Epoch 2/50\n",
            "7/7 [==============================] - 1s 182ms/step - loss: 0.1240 - accuracy: 0.9612 - val_loss: 0.2012 - val_accuracy: 0.9466\n",
            "Epoch 3/50\n",
            "7/7 [==============================] - 2s 242ms/step - loss: 0.0634 - accuracy: 0.9854 - val_loss: 0.1376 - val_accuracy: 0.9563\n",
            "Epoch 4/50\n",
            "7/7 [==============================] - 2s 254ms/step - loss: 0.0443 - accuracy: 0.9903 - val_loss: 0.1447 - val_accuracy: 0.9612\n",
            "Epoch 5/50\n",
            "7/7 [==============================] - 1s 187ms/step - loss: 0.0524 - accuracy: 0.9854 - val_loss: 0.1399 - val_accuracy: 0.9612\n",
            "Epoch 6/50\n",
            "7/7 [==============================] - 1s 192ms/step - loss: 0.0286 - accuracy: 0.9903 - val_loss: 0.1555 - val_accuracy: 0.9563\n",
            "Epoch 7/50\n",
            "7/7 [==============================] - 1s 180ms/step - loss: 0.0208 - accuracy: 1.0000 - val_loss: 0.1776 - val_accuracy: 0.9515\n",
            "Epoch 8/50\n",
            "7/7 [==============================] - 1s 182ms/step - loss: 0.0118 - accuracy: 1.0000 - val_loss: 0.1562 - val_accuracy: 0.9563\n",
            "Epoch 9/50\n",
            "7/7 [==============================] - 1s 180ms/step - loss: 0.0098 - accuracy: 1.0000 - val_loss: 0.1450 - val_accuracy: 0.9563\n",
            "Epoch 10/50\n",
            "7/7 [==============================] - 1s 181ms/step - loss: 0.0112 - accuracy: 1.0000 - val_loss: 0.2097 - val_accuracy: 0.9563\n",
            "Epoch 11/50\n",
            "7/7 [==============================] - 1s 185ms/step - loss: 0.0065 - accuracy: 1.0000 - val_loss: 0.1505 - val_accuracy: 0.9515\n",
            "Epoch 12/50\n",
            "7/7 [==============================] - 1s 179ms/step - loss: 0.0048 - accuracy: 1.0000 - val_loss: 0.1569 - val_accuracy: 0.9515\n",
            "Epoch 13/50\n",
            "7/7 [==============================] - 1s 188ms/step - loss: 0.0054 - accuracy: 1.0000 - val_loss: 0.1536 - val_accuracy: 0.9563\n",
            "Epoch 14/50\n",
            "7/7 [==============================] - 1s 184ms/step - loss: 0.0028 - accuracy: 1.0000 - val_loss: 0.1551 - val_accuracy: 0.9563\n",
            "Epoch 15/50\n",
            "7/7 [==============================] - 1s 185ms/step - loss: 0.0038 - accuracy: 1.0000 - val_loss: 0.1587 - val_accuracy: 0.9612\n",
            "Epoch 16/50\n",
            "7/7 [==============================] - 1s 205ms/step - loss: 0.0015 - accuracy: 1.0000 - val_loss: 0.1559 - val_accuracy: 0.9563\n",
            "Epoch 17/50\n",
            "7/7 [==============================] - 1s 181ms/step - loss: 8.5453e-04 - accuracy: 1.0000 - val_loss: 0.1547 - val_accuracy: 0.9563\n",
            "Epoch 18/50\n",
            "7/7 [==============================] - 1s 197ms/step - loss: 9.4858e-04 - accuracy: 1.0000 - val_loss: 0.1507 - val_accuracy: 0.9612\n",
            "Epoch 19/50\n",
            "7/7 [==============================] - 1s 183ms/step - loss: 6.4873e-04 - accuracy: 1.0000 - val_loss: 0.1559 - val_accuracy: 0.9563\n",
            "Epoch 20/50\n",
            "7/7 [==============================] - 1s 171ms/step - loss: 8.1566e-04 - accuracy: 1.0000 - val_loss: 0.1632 - val_accuracy: 0.9563\n",
            "Epoch 21/50\n",
            "7/7 [==============================] - 1s 183ms/step - loss: 7.4210e-04 - accuracy: 1.0000 - val_loss: 0.1635 - val_accuracy: 0.9563\n",
            "Epoch 22/50\n",
            "7/7 [==============================] - 1s 189ms/step - loss: 3.0729e-04 - accuracy: 1.0000 - val_loss: 0.1700 - val_accuracy: 0.9563\n",
            "Epoch 23/50\n",
            "7/7 [==============================] - 1s 184ms/step - loss: 1.7331e-04 - accuracy: 1.0000 - val_loss: 0.1741 - val_accuracy: 0.9612\n",
            "Epoch 24/50\n",
            "7/7 [==============================] - 1s 186ms/step - loss: 1.6922e-04 - accuracy: 1.0000 - val_loss: 0.1835 - val_accuracy: 0.9515\n",
            "Epoch 25/50\n",
            "7/7 [==============================] - 1s 189ms/step - loss: 1.6106e-04 - accuracy: 1.0000 - val_loss: 0.1780 - val_accuracy: 0.9612\n",
            "Epoch 26/50\n",
            "7/7 [==============================] - 2s 234ms/step - loss: 1.7111e-04 - accuracy: 1.0000 - val_loss: 0.1855 - val_accuracy: 0.9660\n",
            "Epoch 27/50\n",
            "7/7 [==============================] - 1s 177ms/step - loss: 1.1288e-04 - accuracy: 1.0000 - val_loss: 0.1949 - val_accuracy: 0.9563\n",
            "Epoch 28/50\n",
            "7/7 [==============================] - 1s 182ms/step - loss: 1.3730e-04 - accuracy: 1.0000 - val_loss: 0.2085 - val_accuracy: 0.9515\n",
            "Epoch 29/50\n",
            "7/7 [==============================] - 1s 179ms/step - loss: 1.6267e-04 - accuracy: 1.0000 - val_loss: 0.1976 - val_accuracy: 0.9563\n",
            "Epoch 30/50\n",
            "7/7 [==============================] - 1s 184ms/step - loss: 1.0758e-04 - accuracy: 1.0000 - val_loss: 0.1849 - val_accuracy: 0.9563\n",
            "Epoch 31/50\n",
            "7/7 [==============================] - 1s 185ms/step - loss: 2.9707e-05 - accuracy: 1.0000 - val_loss: 0.1892 - val_accuracy: 0.9563\n",
            "Epoch 32/50\n",
            "7/7 [==============================] - 1s 183ms/step - loss: 3.2523e-05 - accuracy: 1.0000 - val_loss: 0.1919 - val_accuracy: 0.9563\n",
            "Epoch 33/50\n",
            "7/7 [==============================] - 1s 180ms/step - loss: 2.7910e-05 - accuracy: 1.0000 - val_loss: 0.1948 - val_accuracy: 0.9563\n",
            "Epoch 34/50\n",
            "7/7 [==============================] - 1s 180ms/step - loss: 5.1600e-05 - accuracy: 1.0000 - val_loss: 0.1973 - val_accuracy: 0.9660\n",
            "Epoch 35/50\n",
            "7/7 [==============================] - 1s 179ms/step - loss: 2.0772e-05 - accuracy: 1.0000 - val_loss: 0.1967 - val_accuracy: 0.9612\n",
            "Epoch 36/50\n",
            "7/7 [==============================] - 1s 184ms/step - loss: 2.3350e-05 - accuracy: 1.0000 - val_loss: 0.2342 - val_accuracy: 0.9563\n",
            "Epoch 37/50\n",
            "7/7 [==============================] - 1s 175ms/step - loss: 2.0992e-05 - accuracy: 1.0000 - val_loss: 0.2132 - val_accuracy: 0.9563\n",
            "Epoch 38/50\n",
            "7/7 [==============================] - 1s 182ms/step - loss: 8.9489e-06 - accuracy: 1.0000 - val_loss: 0.2130 - val_accuracy: 0.9612\n",
            "Epoch 39/50\n",
            "7/7 [==============================] - 1s 179ms/step - loss: 6.3676e-06 - accuracy: 1.0000 - val_loss: 0.2181 - val_accuracy: 0.9515\n",
            "Epoch 40/50\n",
            "7/7 [==============================] - 2s 228ms/step - loss: 8.7696e-06 - accuracy: 1.0000 - val_loss: 0.2144 - val_accuracy: 0.9709\n",
            "Epoch 41/50\n",
            "7/7 [==============================] - 1s 182ms/step - loss: 3.2209e-05 - accuracy: 1.0000 - val_loss: 0.2083 - val_accuracy: 0.9660\n",
            "Epoch 42/50\n",
            "7/7 [==============================] - 1s 210ms/step - loss: 6.7956e-06 - accuracy: 1.0000 - val_loss: 0.2171 - val_accuracy: 0.9612\n",
            "Epoch 43/50\n",
            "7/7 [==============================] - 1s 183ms/step - loss: 4.2473e-06 - accuracy: 1.0000 - val_loss: 0.2180 - val_accuracy: 0.9612\n",
            "Epoch 44/50\n",
            "7/7 [==============================] - 1s 186ms/step - loss: 2.2858e-06 - accuracy: 1.0000 - val_loss: 0.2207 - val_accuracy: 0.9660\n",
            "Epoch 45/50\n",
            "7/7 [==============================] - 1s 182ms/step - loss: 5.9587e-06 - accuracy: 1.0000 - val_loss: 0.2330 - val_accuracy: 0.9612\n",
            "Epoch 46/50\n",
            "7/7 [==============================] - 1s 178ms/step - loss: 1.3693e-05 - accuracy: 1.0000 - val_loss: 0.2371 - val_accuracy: 0.9563\n",
            "Epoch 47/50\n",
            "7/7 [==============================] - 1s 178ms/step - loss: 1.4460e-04 - accuracy: 1.0000 - val_loss: 0.2207 - val_accuracy: 0.9563\n",
            "Epoch 48/50\n",
            "7/7 [==============================] - 1s 178ms/step - loss: 2.0986e-06 - accuracy: 1.0000 - val_loss: 0.2201 - val_accuracy: 0.9563\n",
            "Epoch 49/50\n",
            "7/7 [==============================] - 1s 183ms/step - loss: 5.6152e-06 - accuracy: 1.0000 - val_loss: 0.2231 - val_accuracy: 0.9660\n",
            "Epoch 50/50\n",
            "7/7 [==============================] - 1s 184ms/step - loss: 3.5378e-06 - accuracy: 1.0000 - val_loss: 0.2277 - val_accuracy: 0.9563\n",
            "7/7 - 0s - loss: 0.2277 - accuracy: 0.9563\n",
            "Test loss: 0.22769978642463684\n",
            "Test accuracy: 0.9563106894493103\n"
          ],
          "name": "stdout"
        }
      ]
    },
    {
      "cell_type": "markdown",
      "metadata": {
        "id": "aQ4AzFKvyGjF"
      },
      "source": [
        "## VGG16"
      ]
    },
    {
      "cell_type": "code",
      "metadata": {
        "id": "f1YLzn3dyIQo",
        "colab": {
          "base_uri": "https://localhost:8080/"
        },
        "outputId": "ad6d5f8f-b213-4e50-b2ae-8eb629c44b7c"
      },
      "source": [
        "from tensorflow.keras.applications import VGG16\n",
        "\n",
        "net= VGG16(include_top=False, weights='imagenet', input_tensor=Input(shape=(150,150,3))) \n",
        "\n",
        "for layer in net.layers[:-5]:\n",
        "    layer.trainable = False\n",
        "\n",
        "x = net.output\n",
        "x = Flatten()(x)\n",
        "x = Dropout(0.5)(x)\n",
        "output_layer = Dense(1, activation='sigmoid', name='sigmoid')(x)\n",
        "model = Model(inputs=net.input, outputs=output_layer)\n",
        "\n",
        "# initiate RMSprop optimizer\n",
        "opt = keras.optimizers.RMSprop(lr=0.0001, decay=1e-6)\n",
        "\n",
        "# Train the model using RMSprop\n",
        "model.compile(loss='binary_crossentropy',\n",
        "              optimizer=opt,\n",
        "              metrics=['accuracy'])\n",
        "\n",
        "epochs=10\n",
        "\n",
        "history = model.fit(\n",
        "    train_generator,\n",
        "    epochs=epochs,\n",
        "    validation_data=val_generator,\n",
        "    workers=4\n",
        ")\n",
        "\n",
        "score = model.evaluate(val_generator,verbose=2)\n",
        "print('Test loss:', score[0])\n",
        "print('Test accuracy:', score[1])"
      ],
      "execution_count": null,
      "outputs": [
        {
          "output_type": "stream",
          "text": [
            "Epoch 1/10\n",
            "7/7 [==============================] - 2s 282ms/step - loss: 1.0797 - accuracy: 0.4466 - val_loss: 0.6118 - val_accuracy: 0.6796\n",
            "Epoch 2/10\n",
            "7/7 [==============================] - 1s 167ms/step - loss: 0.6647 - accuracy: 0.5874 - val_loss: 0.4618 - val_accuracy: 0.8738\n",
            "Epoch 3/10\n",
            "7/7 [==============================] - 1s 163ms/step - loss: 0.5606 - accuracy: 0.6990 - val_loss: 0.3958 - val_accuracy: 0.8301\n",
            "Epoch 4/10\n",
            "7/7 [==============================] - 1s 183ms/step - loss: 0.4947 - accuracy: 0.7621 - val_loss: 0.2728 - val_accuracy: 0.9078\n",
            "Epoch 5/10\n",
            "7/7 [==============================] - 1s 184ms/step - loss: 0.4250 - accuracy: 0.8058 - val_loss: 0.2311 - val_accuracy: 0.9320\n",
            "Epoch 6/10\n",
            "7/7 [==============================] - 2s 222ms/step - loss: 0.4086 - accuracy: 0.8350 - val_loss: 0.5662 - val_accuracy: 0.7233\n",
            "Epoch 7/10\n",
            "7/7 [==============================] - 1s 187ms/step - loss: 0.3328 - accuracy: 0.8447 - val_loss: 0.2133 - val_accuracy: 0.9320\n",
            "Epoch 8/10\n",
            "7/7 [==============================] - 1s 166ms/step - loss: 0.5225 - accuracy: 0.7427 - val_loss: 0.1850 - val_accuracy: 0.9466\n",
            "Epoch 9/10\n",
            "7/7 [==============================] - 1s 190ms/step - loss: 0.3325 - accuracy: 0.8495 - val_loss: 0.2114 - val_accuracy: 0.9078\n",
            "Epoch 10/10\n",
            "7/7 [==============================] - 1s 154ms/step - loss: 0.3380 - accuracy: 0.8689 - val_loss: 0.1648 - val_accuracy: 0.9369\n",
            "7/7 - 0s - loss: 0.1648 - accuracy: 0.9369\n",
            "Test loss: 0.16477927565574646\n",
            "Test accuracy: 0.9368932247161865\n"
          ],
          "name": "stdout"
        }
      ]
    },
    {
      "cell_type": "markdown",
      "metadata": {
        "id": "qIlkdmiP_y6h"
      },
      "source": [
        "## VGG19\n"
      ]
    },
    {
      "cell_type": "code",
      "metadata": {
        "id": "r3TWYZN71JPo",
        "colab": {
          "base_uri": "https://localhost:8080/"
        },
        "outputId": "02cf5e7b-34be-4f3b-e38e-5ea38f21d5b1"
      },
      "source": [
        "from tensorflow.keras.applications import VGG19\n",
        "\n",
        "net= VGG19(include_top=False, weights='imagenet', input_tensor=Input(shape=(150,150,3))) \n",
        "\n",
        "for layer in net.layers[:-5]:\n",
        "    layer.trainable = False\n",
        "\n",
        "x = net.output\n",
        "x = Flatten()(x)\n",
        "x = Dropout(0.5)(x)\n",
        "output_layer = Dense(1, activation='sigmoid', name='sigmoid')(x)\n",
        "model = Model(inputs=net.input, outputs=output_layer)\n",
        "\n",
        "# initiate RMSprop optimizer\n",
        "opt = keras.optimizers.RMSprop(lr=0.0001, decay=1e-6)\n",
        "\n",
        "# Train the model using RMSprop\n",
        "model.compile(loss='binary_crossentropy',\n",
        "              optimizer=opt,\n",
        "              metrics=['accuracy'])\n",
        "\n",
        "epochs=10\n",
        "\n",
        "history = model.fit(\n",
        "    train_generator,\n",
        "    epochs=epochs,\n",
        "    validation_data=val_generator,\n",
        "    workers=4\n",
        ")\n",
        "\n",
        "score = model.evaluate(val_generator,verbose=2)\n",
        "print('Test loss:', score[0])\n",
        "print('Test accuracy:', score[1])"
      ],
      "execution_count": null,
      "outputs": [
        {
          "output_type": "stream",
          "text": [
            "Epoch 1/10\n",
            "7/7 [==============================] - 2s 278ms/step - loss: 0.8529 - accuracy: 0.5000 - val_loss: 0.5799 - val_accuracy: 0.8398\n",
            "Epoch 2/10\n",
            "7/7 [==============================] - 1s 184ms/step - loss: 0.6685 - accuracy: 0.5971 - val_loss: 0.3776 - val_accuracy: 0.8835\n",
            "Epoch 3/10\n",
            "7/7 [==============================] - 2s 230ms/step - loss: 0.5925 - accuracy: 0.6359 - val_loss: 0.3606 - val_accuracy: 0.8252\n",
            "Epoch 4/10\n",
            "7/7 [==============================] - 1s 182ms/step - loss: 0.5403 - accuracy: 0.6990 - val_loss: 0.3117 - val_accuracy: 0.9223\n",
            "Epoch 5/10\n",
            "7/7 [==============================] - 1s 189ms/step - loss: 0.4843 - accuracy: 0.8155 - val_loss: 0.8141 - val_accuracy: 0.6893\n",
            "Epoch 6/10\n",
            "7/7 [==============================] - 1s 164ms/step - loss: 0.5516 - accuracy: 0.7621 - val_loss: 0.3052 - val_accuracy: 0.8641\n",
            "Epoch 7/10\n",
            "7/7 [==============================] - 1s 172ms/step - loss: 0.5172 - accuracy: 0.7816 - val_loss: 0.2353 - val_accuracy: 0.9223\n",
            "Epoch 8/10\n",
            "7/7 [==============================] - 1s 192ms/step - loss: 0.3517 - accuracy: 0.8301 - val_loss: 0.2162 - val_accuracy: 0.9175\n",
            "Epoch 9/10\n",
            "7/7 [==============================] - 2s 232ms/step - loss: 0.4054 - accuracy: 0.7913 - val_loss: 0.2248 - val_accuracy: 0.9126\n",
            "Epoch 10/10\n",
            "7/7 [==============================] - 1s 172ms/step - loss: 0.3244 - accuracy: 0.8592 - val_loss: 0.1802 - val_accuracy: 0.9223\n",
            "7/7 - 0s - loss: 0.1802 - accuracy: 0.9223\n",
            "Test loss: 0.18020585179328918\n",
            "Test accuracy: 0.9223300814628601\n"
          ],
          "name": "stdout"
        }
      ]
    },
    {
      "cell_type": "markdown",
      "metadata": {
        "id": "LP5fjTbl6p1v"
      },
      "source": [
        "## InceptionV3 "
      ]
    },
    {
      "cell_type": "code",
      "metadata": {
        "id": "jyK2CQa98VBj",
        "colab": {
          "base_uri": "https://localhost:8080/"
        },
        "outputId": "0ce63d31-d8a3-4ed4-d34f-1cb5ed187cc2"
      },
      "source": [
        "from tensorflow.keras.applications import InceptionV3\n",
        "\n",
        "net= InceptionV3(include_top=False, weights='imagenet', input_tensor=Input(shape=(150,150,3))) \n",
        "\n",
        "for layer in net.layers[:-5]:\n",
        "    layer.trainable = False\n",
        "\n",
        "x = net.output\n",
        "x = Flatten()(x)\n",
        "x = Dropout(0.5)(x)\n",
        "output_layer = Dense(1, activation='sigmoid', name='sigmoid')(x)\n",
        "model = Model(inputs=net.input, outputs=output_layer)\n",
        "\n",
        "# initiate RMSprop optimizer\n",
        "opt = keras.optimizers.RMSprop(lr=0.0001, decay=1e-6)\n",
        "\n",
        "# Train the model using RMSprop\n",
        "model.compile(loss='binary_crossentropy',\n",
        "              optimizer=opt,\n",
        "              metrics=['accuracy'])\n",
        "\n",
        "epochs=10\n",
        "callback = tf.keras.callbacks.EarlyStopping(monitor='val_accuracy', mode='max', patience=40, restore_best_weights='True')\n",
        "\n",
        "history = model.fit(\n",
        "    train_generator,\n",
        "    epochs=epochs,\n",
        "    callbacks=[callback],\n",
        "    validation_data=val_generator,\n",
        "    workers=4\n",
        ")\n",
        "\n",
        "score = model.evaluate(val_generator,verbose=2)\n",
        "print('Test loss:', score[0])\n",
        "print('Test accuracy:', score[1])"
      ],
      "execution_count": null,
      "outputs": [
        {
          "output_type": "stream",
          "text": [
            "Epoch 1/10\n",
            "7/7 [==============================] - 3s 454ms/step - loss: 1.1039 - accuracy: 0.5437 - val_loss: 0.6599 - val_accuracy: 0.6650\n",
            "Epoch 2/10\n",
            "7/7 [==============================] - 1s 176ms/step - loss: 0.8613 - accuracy: 0.6262 - val_loss: 0.3990 - val_accuracy: 0.8350\n",
            "Epoch 3/10\n",
            "7/7 [==============================] - 1s 176ms/step - loss: 0.5905 - accuracy: 0.7718 - val_loss: 0.3221 - val_accuracy: 0.8398\n",
            "Epoch 4/10\n",
            "7/7 [==============================] - 1s 157ms/step - loss: 0.6843 - accuracy: 0.7476 - val_loss: 0.2857 - val_accuracy: 0.8981\n",
            "Epoch 5/10\n",
            "7/7 [==============================] - 1s 143ms/step - loss: 0.4879 - accuracy: 0.8058 - val_loss: 0.2596 - val_accuracy: 0.8932\n",
            "Epoch 6/10\n",
            "7/7 [==============================] - 2s 240ms/step - loss: 0.5408 - accuracy: 0.7524 - val_loss: 0.2371 - val_accuracy: 0.9223\n",
            "Epoch 7/10\n",
            "7/7 [==============================] - 1s 185ms/step - loss: 0.5471 - accuracy: 0.7961 - val_loss: 0.2362 - val_accuracy: 0.9223\n",
            "Epoch 8/10\n",
            "7/7 [==============================] - 1s 179ms/step - loss: 0.4459 - accuracy: 0.8058 - val_loss: 0.2152 - val_accuracy: 0.9272\n",
            "Epoch 9/10\n",
            "7/7 [==============================] - 1s 160ms/step - loss: 0.5030 - accuracy: 0.8252 - val_loss: 0.2270 - val_accuracy: 0.9175\n",
            "Epoch 10/10\n",
            "7/7 [==============================] - 2s 237ms/step - loss: 0.4713 - accuracy: 0.8058 - val_loss: 0.1999 - val_accuracy: 0.9320\n",
            "7/7 - 0s - loss: 0.1999 - accuracy: 0.9320\n",
            "Test loss: 0.19990196824073792\n",
            "Test accuracy: 0.9320388436317444\n"
          ],
          "name": "stdout"
        }
      ]
    },
    {
      "cell_type": "markdown",
      "metadata": {
        "id": "cPjSqgcFABwG"
      },
      "source": [
        "## ResNet101V2 \n"
      ]
    },
    {
      "cell_type": "code",
      "metadata": {
        "id": "Et_bVMfG2V9n",
        "colab": {
          "base_uri": "https://localhost:8080/"
        },
        "outputId": "3d75dcc4-aa1a-4e3f-a275-bbeece107f0f"
      },
      "source": [
        "from tensorflow.keras.applications import ResNet101V2\n",
        "\n",
        "net= ResNet101V2(include_top=False, weights='imagenet', input_tensor=Input(shape=(150,150,3))) \n",
        "\n",
        "for layer in net.layers[:-5]:\n",
        "    layer.trainable = False\n",
        "\n",
        "x = net.output\n",
        "x = Flatten()(x)\n",
        "x = Dropout(0.5)(x)\n",
        "output_layer = Dense(1, activation='sigmoid', name='sigmoid')(x)\n",
        "model = Model(inputs=net.input, outputs=output_layer)\n",
        "\n",
        "# initiate RMSprop optimizer\n",
        "opt = keras.optimizers.RMSprop(lr=0.0001, decay=1e-6)\n",
        "\n",
        "# Train the model using RMSprop\n",
        "model.compile(loss='binary_crossentropy',\n",
        "              optimizer=opt,\n",
        "              metrics=['accuracy'])\n",
        "\n",
        "epochs=10\n",
        "\n",
        "history = model.fit(\n",
        "    train_generator,\n",
        "    epochs=epochs,\n",
        "    validation_data=val_generator,\n",
        "    workers=4\n",
        ")\n",
        "\n",
        "score = model.evaluate(val_generator,verbose=2)\n",
        "print('Test loss:', score[0])\n",
        "print('Test accuracy:', score[1])"
      ],
      "execution_count": null,
      "outputs": [
        {
          "output_type": "stream",
          "text": [
            "Epoch 1/10\n",
            "7/7 [==============================] - 4s 507ms/step - loss: 0.8589 - accuracy: 0.6456 - val_loss: 0.4893 - val_accuracy: 0.8010\n",
            "Epoch 2/10\n",
            "7/7 [==============================] - 2s 237ms/step - loss: 0.6953 - accuracy: 0.7282 - val_loss: 0.3544 - val_accuracy: 0.8447\n",
            "Epoch 3/10\n",
            "7/7 [==============================] - 1s 183ms/step - loss: 0.5409 - accuracy: 0.7767 - val_loss: 0.2589 - val_accuracy: 0.9029\n",
            "Epoch 4/10\n",
            "7/7 [==============================] - 1s 160ms/step - loss: 0.5583 - accuracy: 0.7621 - val_loss: 0.2557 - val_accuracy: 0.9029\n",
            "Epoch 5/10\n",
            "7/7 [==============================] - 1s 193ms/step - loss: 0.4232 - accuracy: 0.8398 - val_loss: 0.2293 - val_accuracy: 0.9272\n",
            "Epoch 6/10\n",
            "7/7 [==============================] - 2s 241ms/step - loss: 0.4189 - accuracy: 0.8058 - val_loss: 0.2553 - val_accuracy: 0.9078\n",
            "Epoch 7/10\n",
            "7/7 [==============================] - 2s 214ms/step - loss: 0.3665 - accuracy: 0.8786 - val_loss: 0.2510 - val_accuracy: 0.9223\n",
            "Epoch 8/10\n",
            "7/7 [==============================] - 1s 176ms/step - loss: 0.3537 - accuracy: 0.8641 - val_loss: 0.2589 - val_accuracy: 0.9175\n",
            "Epoch 9/10\n",
            "7/7 [==============================] - 1s 173ms/step - loss: 0.3944 - accuracy: 0.8495 - val_loss: 0.2177 - val_accuracy: 0.9223\n",
            "Epoch 10/10\n",
            "7/7 [==============================] - 2s 236ms/step - loss: 0.3130 - accuracy: 0.8786 - val_loss: 0.2508 - val_accuracy: 0.9223\n",
            "7/7 - 0s - loss: 0.2508 - accuracy: 0.9223\n",
            "Test loss: 0.2507795989513397\n",
            "Test accuracy: 0.9223300814628601\n"
          ],
          "name": "stdout"
        }
      ]
    },
    {
      "cell_type": "code",
      "metadata": {
        "id": "H9jj7o1b8WUq"
      },
      "source": [
        "acc = history.history['accuracy']\n",
        "val_acc = history.history['val_accuracy']\n",
        "\n",
        "loss = history.history['loss']\n",
        "val_loss = history.history['val_loss']\n",
        "\n",
        "epochs_range = range(epochs)\n",
        "\n",
        "plt.figure(figsize=(8, 8))\n",
        "plt.subplot(1, 2, 1)\n",
        "plt.plot(epochs_range, acc, label='Training Accuracy')\n",
        "plt.plot(epochs_range, val_acc, label='Validation Accuracy')\n",
        "plt.legend(loc='lower right')\n",
        "plt.title('Training and Validation Accuracy')\n",
        "\n",
        "plt.subplot(1, 2, 2)\n",
        "plt.plot(epochs_range, loss, label='Training Loss')\n",
        "plt.plot(epochs_range, val_loss, label='Validation Loss')\n",
        "plt.legend(loc='upper right')\n",
        "plt.title('Training and Validation Loss')\n",
        "plt.show()"
      ],
      "execution_count": null,
      "outputs": []
    },
    {
      "cell_type": "markdown",
      "metadata": {
        "id": "t7PpQVDP6LwR"
      },
      "source": [
        "## ResNet152V2 "
      ]
    },
    {
      "cell_type": "code",
      "metadata": {
        "id": "uiGNrxt86Pvl",
        "colab": {
          "base_uri": "https://localhost:8080/"
        },
        "outputId": "94803999-80d4-48d7-9df4-3109b437cc57"
      },
      "source": [
        "from tensorflow.keras.applications import ResNet152V2\n",
        "\n",
        "net= ResNet152V2(include_top=False, weights='imagenet', input_tensor=Input(shape=(150,150,3))) \n",
        "\n",
        "for layer in net.layers[:-5]:\n",
        "    layer.trainable = False\n",
        "\n",
        "x = net.output\n",
        "x = Flatten()(x)\n",
        "x = Dropout(0.5)(x)\n",
        "output_layer = Dense(1, activation='sigmoid', name='sigmoid')(x)\n",
        "model = Model(inputs=net.input, outputs=output_layer)\n",
        "\n",
        "# initiate RMSprop optimizer\n",
        "opt = keras.optimizers.RMSprop(lr=0.0001, decay=1e-6)\n",
        "\n",
        "# Train the model using RMSprop\n",
        "model.compile(loss='binary_crossentropy',\n",
        "              optimizer=opt,\n",
        "              metrics=['accuracy'])\n",
        "\n",
        "epochs=10\n",
        "\n",
        "history = model.fit(\n",
        "    train_generator,\n",
        "    epochs=epochs,\n",
        "    validation_data=val_generator,\n",
        "    workers=4\n",
        ")\n",
        "\n",
        "score = model.evaluate(val_generator,verbose=2)\n",
        "print('Test loss:', score[0])\n",
        "print('Test accuracy:', score[1])"
      ],
      "execution_count": null,
      "outputs": [
        {
          "output_type": "stream",
          "text": [
            "Downloading data from https://storage.googleapis.com/tensorflow/keras-applications/resnet/resnet152v2_weights_tf_dim_ordering_tf_kernels_notop.h5\n",
            "234553344/234545216 [==============================] - 7s 0us/step\n",
            "Epoch 1/10\n",
            "7/7 [==============================] - 5s 658ms/step - loss: 0.5614 - accuracy: 0.7573 - val_loss: 0.1896 - val_accuracy: 0.9223\n",
            "Epoch 2/10\n",
            "7/7 [==============================] - 2s 229ms/step - loss: 0.6592 - accuracy: 0.7524 - val_loss: 0.1613 - val_accuracy: 0.9466\n",
            "Epoch 3/10\n",
            "7/7 [==============================] - 1s 206ms/step - loss: 0.4053 - accuracy: 0.8204 - val_loss: 0.1679 - val_accuracy: 0.9466\n",
            "Epoch 4/10\n",
            "7/7 [==============================] - 2s 236ms/step - loss: 0.4660 - accuracy: 0.8155 - val_loss: 0.1793 - val_accuracy: 0.9515\n",
            "Epoch 5/10\n",
            "7/7 [==============================] - 1s 205ms/step - loss: 0.3796 - accuracy: 0.8592 - val_loss: 0.1916 - val_accuracy: 0.9466\n",
            "Epoch 6/10\n",
            "7/7 [==============================] - 2s 225ms/step - loss: 0.4010 - accuracy: 0.8738 - val_loss: 0.1837 - val_accuracy: 0.9563\n",
            "Epoch 7/10\n",
            "7/7 [==============================] - 2s 217ms/step - loss: 0.3715 - accuracy: 0.8447 - val_loss: 0.1789 - val_accuracy: 0.9515\n",
            "Epoch 8/10\n",
            "7/7 [==============================] - 2s 214ms/step - loss: 0.4000 - accuracy: 0.8544 - val_loss: 0.1684 - val_accuracy: 0.9369\n",
            "Epoch 9/10\n",
            "7/7 [==============================] - 2s 220ms/step - loss: 0.3310 - accuracy: 0.8883 - val_loss: 0.1687 - val_accuracy: 0.9320\n",
            "Epoch 10/10\n",
            "7/7 [==============================] - 1s 207ms/step - loss: 0.4075 - accuracy: 0.8689 - val_loss: 0.1717 - val_accuracy: 0.9515\n",
            "7/7 - 0s - loss: 0.1717 - accuracy: 0.9515\n",
            "Test loss: 0.1717279702425003\n",
            "Test accuracy: 0.9514563083648682\n"
          ],
          "name": "stdout"
        }
      ]
    },
    {
      "cell_type": "code",
      "metadata": {
        "id": "qQt61X158ax-"
      },
      "source": [
        "acc = history.history['accuracy']\n",
        "val_acc = history.history['val_accuracy']\n",
        "\n",
        "loss = history.history['loss']\n",
        "val_loss = history.history['val_loss']\n",
        "\n",
        "epochs_range = range(epochs)\n",
        "\n",
        "plt.figure(figsize=(8, 8))\n",
        "plt.subplot(1, 2, 1)\n",
        "plt.plot(epochs_range, acc, label='Training Accuracy')\n",
        "plt.plot(epochs_range, val_acc, label='Validation Accuracy')\n",
        "plt.legend(loc='lower right')\n",
        "plt.title('Training and Validation Accuracy')\n",
        "\n",
        "plt.subplot(1, 2, 2)\n",
        "plt.plot(epochs_range, loss, label='Training Loss')\n",
        "plt.plot(epochs_range, val_loss, label='Validation Loss')\n",
        "plt.legend(loc='upper right')\n",
        "plt.title('Training and Validation Loss')\n",
        "plt.show()"
      ],
      "execution_count": null,
      "outputs": []
    }
  ]
}